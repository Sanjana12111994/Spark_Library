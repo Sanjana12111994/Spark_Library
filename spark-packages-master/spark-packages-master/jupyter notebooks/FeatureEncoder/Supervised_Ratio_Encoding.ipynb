{
 "cells": [
  {
   "cell_type": "code",
   "execution_count": 1,
   "metadata": {},
   "outputs": [],
   "source": [
    "import findspark\n",
    "import pyspark\n",
    "from pyspark.sql import *\n",
    "from pyspark.sql.functions import col, countDistinct\n",
    "from pyspark.sql.functions import struct\n",
    "from pyspark.sql import SparkSession, functions as F, types\n",
    "from pyspark.sql.types import StructType\n",
    "from pyspark.sql.types import *\n",
    "from pyspark.sql.functions import broadcast\n",
    "findspark.init()\n",
    "spark = SparkSession.builder.appName('Feature_Encoder').master(\"local\").getOrCreate()"
   ]
  },
  {
   "cell_type": "code",
   "execution_count": 7,
   "metadata": {},
   "outputs": [
    {
     "name": "stdout",
     "output_type": "stream",
     "text": [
      "+-------+-----+\n",
      "|Country|Label|\n",
      "+-------+-----+\n",
      "|     US|    0|\n",
      "|     CA|    1|\n",
      "|     IN|    0|\n",
      "|     IN|    1|\n",
      "|     US|    0|\n",
      "|     CA|    1|\n",
      "|     IN|    0|\n",
      "|     CA|    1|\n",
      "|     CA|    0|\n",
      "|     CA|    1|\n",
      "|     US|    0|\n",
      "|     CA|    1|\n",
      "|     CN|    1|\n",
      "|     CN|    1|\n",
      "+-------+-----+\n",
      "\n"
     ]
    }
   ],
   "source": [
    "#Create dataset\n",
    "schema = StructType([StructField(\"Country\", StringType(),True), \n",
    "                     StructField(\"Label\", IntegerType(),True)])\n",
    "                     \n",
    "data = [(\"US\",0),(\"CA\",1),(\"IN\",0),(\"IN\",1),(\"US\",0),(\"CA\",1),(\"IN\",0),(\"CA\",1),(\"CA\",0),(\"CA\",1),(\"US\",0),(\"CA\",1),(\"CN\",1),(\"CN\",1)]\n",
    "\n",
    "df = spark.createDataFrame(data, schema=schema)\n",
    "total_count = df.count()\n",
    "df.show()"
   ]
  },
  {
   "cell_type": "code",
   "execution_count": 3,
   "metadata": {},
   "outputs": [
    {
     "name": "stdout",
     "output_type": "stream",
     "text": [
      "+-------+--------+\n",
      "|Country|count_c1|\n",
      "+-------+--------+\n",
      "|     CN|       2|\n",
      "|     IN|       1|\n",
      "|     CA|       5|\n",
      "+-------+--------+\n",
      "\n",
      "+-------+--------+\n",
      "|Country|count_c0|\n",
      "+-------+--------+\n",
      "|     IN|       2|\n",
      "|     US|       3|\n",
      "|     CA|       1|\n",
      "+-------+--------+\n",
      "\n"
     ]
    }
   ],
   "source": [
    "#categorical column name \n",
    "cat_col = \"Country\"\n",
    "label_col = \"label\"\n",
    "positive_class = 1\n",
    "negative_class = 0 \n",
    "\n",
    "#Count the number distinct category with their respective class\n",
    "df1 = df.groupby(cat_col,label_col).count() \n",
    "\n",
    "#Create two seperate dataframes for positive and negative class\n",
    "#Dataframe containing positive class\n",
    "df_class1 = df1.select(cat_col,label_col,'count').where(df[label_col]== positive_class)\n",
    "df_class1 = df_class1.withColumnRenamed(\"count\",\"count_c1\").dropDuplicates().drop(label_col)\n",
    "\n",
    "#Dataframe containing negative class\n",
    "df_class0 = df1.select(cat_col,label_col,'count').where(df[label_col]== negative_class)\n",
    "df_class0 = df_class0.withColumnRenamed(\"count\",\"count_c0\").dropDuplicates().drop(label_col)\n",
    "\n",
    "df_class1.show()\n",
    "df_class0.show()"
   ]
  },
  {
   "cell_type": "code",
   "execution_count": 42,
   "metadata": {},
   "outputs": [
    {
     "name": "stdout",
     "output_type": "stream",
     "text": [
      "+-------+--------+--------+------------------+-------------------+\n",
      "|Country|count_c0|count_c1|                SR|    Country_encoded|\n",
      "+-------+--------+--------+------------------+-------------------+\n",
      "|     CN|       0|       2|               1.0|0.14285714285714285|\n",
      "|     CA|       1|       5|0.8333333333333334| 0.8333333333333334|\n",
      "|     US|       3|       0|               0.0|0.21428571428571427|\n",
      "|     IN|       2|       1|0.3333333333333333| 0.3333333333333333|\n",
      "+-------+--------+--------+------------------+-------------------+\n",
      "\n"
     ]
    }
   ],
   "source": [
    "# Join both the dataframes positive class and negative class\n",
    "df_join = df_class0.join(df_class1, on = [cat_col], how = \"full\").na.fill(0)\n",
    "\n",
    "#Calculate the SUpervised Ratio for all the cases \n",
    "sr_col = df_join['count_c1'] / (df_join['count_c1'] + df_join['count_c0'])\n",
    "df_join =df_join.withColumn(\"SR\",sr_col).na.fill(0) \n",
    "\n",
    "\n",
    "#Special cases handling:\n",
    "#where the value is either missing or when the number of positive or negative values for a category is zero\n",
    "\n",
    "df_join = df_join.withColumn(cat_col+\"_encoded\", \\\n",
    "              F.when((df_join[\"count_c0\"] == 0) | (df_join[\"count_c1\"] == 0) ,\\\n",
    "                     (col(\"count_c0\") + col(\"count_c1\")) / total_count)\\\n",
    "                             .otherwise(df_join[\"SR\"]))\n",
    "df_join.show()"
   ]
  },
  {
   "cell_type": "code",
   "execution_count": 43,
   "metadata": {
    "scrolled": true
   },
   "outputs": [
    {
     "name": "stdout",
     "output_type": "stream",
     "text": [
      "+-------+-----+-------------------+\n",
      "|Country|Label|    Country_encoded|\n",
      "+-------+-----+-------------------+\n",
      "|     CN|    1|0.14285714285714285|\n",
      "|     CN|    1|0.14285714285714285|\n",
      "|     CA|    1| 0.8333333333333334|\n",
      "|     CA|    1| 0.8333333333333334|\n",
      "|     CA|    1| 0.8333333333333334|\n",
      "|     CA|    0| 0.8333333333333334|\n",
      "|     CA|    1| 0.8333333333333334|\n",
      "|     CA|    1| 0.8333333333333334|\n",
      "|     US|    0|0.21428571428571427|\n",
      "|     US|    0|0.21428571428571427|\n",
      "|     US|    0|0.21428571428571427|\n",
      "|     IN|    0| 0.3333333333333333|\n",
      "|     IN|    1| 0.3333333333333333|\n",
      "|     IN|    0| 0.3333333333333333|\n",
      "+-------+-----+-------------------+\n",
      "\n"
     ]
    }
   ],
   "source": [
    "df_sr = df.join(broadcast(df_join), on=[cat_col], how = \"right\").drop('count_c0','count_c1','SR')\n",
    "df_sr.show()"
   ]
  },
  {
   "cell_type": "code",
   "execution_count": null,
   "metadata": {},
   "outputs": [],
   "source": []
  }
 ],
 "metadata": {
  "kernelspec": {
   "display_name": "Python 3",
   "language": "python",
   "name": "python3"
  },
  "language_info": {
   "codemirror_mode": {
    "name": "ipython",
    "version": 3
   },
   "file_extension": ".py",
   "mimetype": "text/x-python",
   "name": "python",
   "nbconvert_exporter": "python",
   "pygments_lexer": "ipython3",
   "version": "3.7.6"
  }
 },
 "nbformat": 4,
 "nbformat_minor": 4
}