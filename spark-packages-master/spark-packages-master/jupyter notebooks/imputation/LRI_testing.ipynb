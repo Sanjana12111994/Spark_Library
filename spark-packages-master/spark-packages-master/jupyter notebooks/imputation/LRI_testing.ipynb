{
 "cells": [
  {
   "cell_type": "markdown",
   "metadata": {},
   "source": [
    "### Imports"
   ]
  },
  {
   "cell_type": "code",
   "execution_count": 159,
   "metadata": {},
   "outputs": [
    {
     "ename": "AnalysisException",
     "evalue": "'Path does not exist: file:/Users/kuba/development/datasets/ContaminatedBoston.csv;'",
     "output_type": "error",
     "traceback": [
      "\u001b[0;31m---------------------------------------------------------------------------\u001b[0m",
      "\u001b[0;31mPy4JJavaError\u001b[0m                             Traceback (most recent call last)",
      "\u001b[0;32m/opt/miniconda3/envs/hsbc/lib/python3.6/site-packages/pyspark/sql/utils.py\u001b[0m in \u001b[0;36mdeco\u001b[0;34m(*a, **kw)\u001b[0m\n\u001b[1;32m     62\u001b[0m         \u001b[0;32mtry\u001b[0m\u001b[0;34m:\u001b[0m\u001b[0;34m\u001b[0m\u001b[0;34m\u001b[0m\u001b[0m\n\u001b[0;32m---> 63\u001b[0;31m             \u001b[0;32mreturn\u001b[0m \u001b[0mf\u001b[0m\u001b[0;34m(\u001b[0m\u001b[0;34m*\u001b[0m\u001b[0ma\u001b[0m\u001b[0;34m,\u001b[0m \u001b[0;34m**\u001b[0m\u001b[0mkw\u001b[0m\u001b[0;34m)\u001b[0m\u001b[0;34m\u001b[0m\u001b[0;34m\u001b[0m\u001b[0m\n\u001b[0m\u001b[1;32m     64\u001b[0m         \u001b[0;32mexcept\u001b[0m \u001b[0mpy4j\u001b[0m\u001b[0;34m.\u001b[0m\u001b[0mprotocol\u001b[0m\u001b[0;34m.\u001b[0m\u001b[0mPy4JJavaError\u001b[0m \u001b[0;32mas\u001b[0m \u001b[0me\u001b[0m\u001b[0;34m:\u001b[0m\u001b[0;34m\u001b[0m\u001b[0;34m\u001b[0m\u001b[0m\n",
      "\u001b[0;32m/opt/miniconda3/envs/hsbc/lib/python3.6/site-packages/py4j/protocol.py\u001b[0m in \u001b[0;36mget_return_value\u001b[0;34m(answer, gateway_client, target_id, name)\u001b[0m\n\u001b[1;32m    319\u001b[0m                     \u001b[0;34m\"An error occurred while calling {0}{1}{2}.\\n\"\u001b[0m\u001b[0;34m.\u001b[0m\u001b[0;34m\u001b[0m\u001b[0;34m\u001b[0m\u001b[0m\n\u001b[0;32m--> 320\u001b[0;31m                     format(target_id, \".\", name), value)\n\u001b[0m\u001b[1;32m    321\u001b[0m             \u001b[0;32melse\u001b[0m\u001b[0;34m:\u001b[0m\u001b[0;34m\u001b[0m\u001b[0;34m\u001b[0m\u001b[0m\n",
      "\u001b[0;31mPy4JJavaError\u001b[0m: An error occurred while calling o4707.csv.\n: org.apache.spark.sql.AnalysisException: Path does not exist: file:/Users/kuba/development/datasets/ContaminatedBoston.csv;\n\tat org.apache.spark.sql.execution.datasources.DataSource$.org$apache$spark$sql$execution$datasources$DataSource$$checkAndGlobPathIfNecessary(DataSource.scala:715)\n\tat org.apache.spark.sql.execution.datasources.DataSource$$anonfun$15.apply(DataSource.scala:389)\n\tat org.apache.spark.sql.execution.datasources.DataSource$$anonfun$15.apply(DataSource.scala:389)\n\tat scala.collection.TraversableLike$$anonfun$flatMap$1.apply(TraversableLike.scala:241)\n\tat scala.collection.TraversableLike$$anonfun$flatMap$1.apply(TraversableLike.scala:241)\n\tat scala.collection.immutable.List.foreach(List.scala:381)\n\tat scala.collection.TraversableLike$class.flatMap(TraversableLike.scala:241)\n\tat scala.collection.immutable.List.flatMap(List.scala:344)\n\tat org.apache.spark.sql.execution.datasources.DataSource.resolveRelation(DataSource.scala:388)\n\tat org.apache.spark.sql.DataFrameReader.loadV1Source(DataFrameReader.scala:239)\n\tat org.apache.spark.sql.DataFrameReader.load(DataFrameReader.scala:227)\n\tat org.apache.spark.sql.DataFrameReader.csv(DataFrameReader.scala:594)\n\tat sun.reflect.NativeMethodAccessorImpl.invoke0(Native Method)\n\tat sun.reflect.NativeMethodAccessorImpl.invoke(NativeMethodAccessorImpl.java:62)\n\tat sun.reflect.DelegatingMethodAccessorImpl.invoke(DelegatingMethodAccessorImpl.java:43)\n\tat java.lang.reflect.Method.invoke(Method.java:498)\n\tat py4j.reflection.MethodInvoker.invoke(MethodInvoker.java:244)\n\tat py4j.reflection.ReflectionEngine.invoke(ReflectionEngine.java:357)\n\tat py4j.Gateway.invoke(Gateway.java:282)\n\tat py4j.commands.AbstractCommand.invokeMethod(AbstractCommand.java:132)\n\tat py4j.commands.CallCommand.execute(CallCommand.java:79)\n\tat py4j.GatewayConnection.run(GatewayConnection.java:214)\n\tat java.lang.Thread.run(Thread.java:748)\n",
      "\nDuring handling of the above exception, another exception occurred:\n",
      "\u001b[0;31mAnalysisException\u001b[0m                         Traceback (most recent call last)",
      "\u001b[0;32m<ipython-input-159-fcea6ba348ba>\u001b[0m in \u001b[0;36m<module>\u001b[0;34m\u001b[0m\n\u001b[1;32m     12\u001b[0m                     \u001b[0;34m.\u001b[0m\u001b[0mgetOrCreate\u001b[0m\u001b[0;34m(\u001b[0m\u001b[0;34m)\u001b[0m\u001b[0;34m\u001b[0m\u001b[0;34m\u001b[0m\u001b[0m\n\u001b[1;32m     13\u001b[0m \u001b[0;34m\u001b[0m\u001b[0m\n\u001b[0;32m---> 14\u001b[0;31m \u001b[0mdf\u001b[0m \u001b[0;34m=\u001b[0m \u001b[0mspark\u001b[0m\u001b[0;34m.\u001b[0m\u001b[0mread\u001b[0m\u001b[0;34m.\u001b[0m\u001b[0mcsv\u001b[0m\u001b[0;34m(\u001b[0m\u001b[0;34m\"../datasets/ContaminatedBoston.csv\"\u001b[0m\u001b[0;34m,\u001b[0m \u001b[0minferSchema\u001b[0m\u001b[0;34m=\u001b[0m\u001b[0;32mTrue\u001b[0m\u001b[0;34m,\u001b[0m \u001b[0mheader\u001b[0m\u001b[0;34m=\u001b[0m\u001b[0;32mTrue\u001b[0m\u001b[0;34m)\u001b[0m\u001b[0;34m\u001b[0m\u001b[0;34m\u001b[0m\u001b[0m\n\u001b[0m\u001b[1;32m     15\u001b[0m \u001b[0;34m\u001b[0m\u001b[0m\n\u001b[1;32m     16\u001b[0m \u001b[0;31m# Only a couple missing values initially.\u001b[0m\u001b[0;34m\u001b[0m\u001b[0;34m\u001b[0m\u001b[0;34m\u001b[0m\u001b[0m\n",
      "\u001b[0;32m/opt/miniconda3/envs/hsbc/lib/python3.6/site-packages/pyspark/sql/readwriter.py\u001b[0m in \u001b[0;36mcsv\u001b[0;34m(self, path, schema, sep, encoding, quote, escape, comment, header, inferSchema, ignoreLeadingWhiteSpace, ignoreTrailingWhiteSpace, nullValue, nanValue, positiveInf, negativeInf, dateFormat, timestampFormat, maxColumns, maxCharsPerColumn, maxMalformedLogPerPartition, mode, columnNameOfCorruptRecord, multiLine, charToEscapeQuoteEscaping)\u001b[0m\n\u001b[1;32m    437\u001b[0m             \u001b[0mpath\u001b[0m \u001b[0;34m=\u001b[0m \u001b[0;34m[\u001b[0m\u001b[0mpath\u001b[0m\u001b[0;34m]\u001b[0m\u001b[0;34m\u001b[0m\u001b[0;34m\u001b[0m\u001b[0m\n\u001b[1;32m    438\u001b[0m         \u001b[0;32mif\u001b[0m \u001b[0mtype\u001b[0m\u001b[0;34m(\u001b[0m\u001b[0mpath\u001b[0m\u001b[0;34m)\u001b[0m \u001b[0;34m==\u001b[0m \u001b[0mlist\u001b[0m\u001b[0;34m:\u001b[0m\u001b[0;34m\u001b[0m\u001b[0;34m\u001b[0m\u001b[0m\n\u001b[0;32m--> 439\u001b[0;31m             \u001b[0;32mreturn\u001b[0m \u001b[0mself\u001b[0m\u001b[0;34m.\u001b[0m\u001b[0m_df\u001b[0m\u001b[0;34m(\u001b[0m\u001b[0mself\u001b[0m\u001b[0;34m.\u001b[0m\u001b[0m_jreader\u001b[0m\u001b[0;34m.\u001b[0m\u001b[0mcsv\u001b[0m\u001b[0;34m(\u001b[0m\u001b[0mself\u001b[0m\u001b[0;34m.\u001b[0m\u001b[0m_spark\u001b[0m\u001b[0;34m.\u001b[0m\u001b[0m_sc\u001b[0m\u001b[0;34m.\u001b[0m\u001b[0m_jvm\u001b[0m\u001b[0;34m.\u001b[0m\u001b[0mPythonUtils\u001b[0m\u001b[0;34m.\u001b[0m\u001b[0mtoSeq\u001b[0m\u001b[0;34m(\u001b[0m\u001b[0mpath\u001b[0m\u001b[0;34m)\u001b[0m\u001b[0;34m)\u001b[0m\u001b[0;34m)\u001b[0m\u001b[0;34m\u001b[0m\u001b[0;34m\u001b[0m\u001b[0m\n\u001b[0m\u001b[1;32m    440\u001b[0m         \u001b[0;32melif\u001b[0m \u001b[0misinstance\u001b[0m\u001b[0;34m(\u001b[0m\u001b[0mpath\u001b[0m\u001b[0;34m,\u001b[0m \u001b[0mRDD\u001b[0m\u001b[0;34m)\u001b[0m\u001b[0;34m:\u001b[0m\u001b[0;34m\u001b[0m\u001b[0;34m\u001b[0m\u001b[0m\n\u001b[1;32m    441\u001b[0m             \u001b[0;32mdef\u001b[0m \u001b[0mfunc\u001b[0m\u001b[0;34m(\u001b[0m\u001b[0miterator\u001b[0m\u001b[0;34m)\u001b[0m\u001b[0;34m:\u001b[0m\u001b[0;34m\u001b[0m\u001b[0;34m\u001b[0m\u001b[0m\n",
      "\u001b[0;32m/opt/miniconda3/envs/hsbc/lib/python3.6/site-packages/py4j/java_gateway.py\u001b[0m in \u001b[0;36m__call__\u001b[0;34m(self, *args)\u001b[0m\n\u001b[1;32m   1158\u001b[0m         \u001b[0manswer\u001b[0m \u001b[0;34m=\u001b[0m \u001b[0mself\u001b[0m\u001b[0;34m.\u001b[0m\u001b[0mgateway_client\u001b[0m\u001b[0;34m.\u001b[0m\u001b[0msend_command\u001b[0m\u001b[0;34m(\u001b[0m\u001b[0mcommand\u001b[0m\u001b[0;34m)\u001b[0m\u001b[0;34m\u001b[0m\u001b[0;34m\u001b[0m\u001b[0m\n\u001b[1;32m   1159\u001b[0m         return_value = get_return_value(\n\u001b[0;32m-> 1160\u001b[0;31m             answer, self.gateway_client, self.target_id, self.name)\n\u001b[0m\u001b[1;32m   1161\u001b[0m \u001b[0;34m\u001b[0m\u001b[0m\n\u001b[1;32m   1162\u001b[0m         \u001b[0;32mfor\u001b[0m \u001b[0mtemp_arg\u001b[0m \u001b[0;32min\u001b[0m \u001b[0mtemp_args\u001b[0m\u001b[0;34m:\u001b[0m\u001b[0;34m\u001b[0m\u001b[0;34m\u001b[0m\u001b[0m\n",
      "\u001b[0;32m/opt/miniconda3/envs/hsbc/lib/python3.6/site-packages/pyspark/sql/utils.py\u001b[0m in \u001b[0;36mdeco\u001b[0;34m(*a, **kw)\u001b[0m\n\u001b[1;32m     67\u001b[0m                                              e.java_exception.getStackTrace()))\n\u001b[1;32m     68\u001b[0m             \u001b[0;32mif\u001b[0m \u001b[0ms\u001b[0m\u001b[0;34m.\u001b[0m\u001b[0mstartswith\u001b[0m\u001b[0;34m(\u001b[0m\u001b[0;34m'org.apache.spark.sql.AnalysisException: '\u001b[0m\u001b[0;34m)\u001b[0m\u001b[0;34m:\u001b[0m\u001b[0;34m\u001b[0m\u001b[0;34m\u001b[0m\u001b[0m\n\u001b[0;32m---> 69\u001b[0;31m                 \u001b[0;32mraise\u001b[0m \u001b[0mAnalysisException\u001b[0m\u001b[0;34m(\u001b[0m\u001b[0ms\u001b[0m\u001b[0;34m.\u001b[0m\u001b[0msplit\u001b[0m\u001b[0;34m(\u001b[0m\u001b[0;34m': '\u001b[0m\u001b[0;34m,\u001b[0m \u001b[0;36m1\u001b[0m\u001b[0;34m)\u001b[0m\u001b[0;34m[\u001b[0m\u001b[0;36m1\u001b[0m\u001b[0;34m]\u001b[0m\u001b[0;34m,\u001b[0m \u001b[0mstackTrace\u001b[0m\u001b[0;34m)\u001b[0m\u001b[0;34m\u001b[0m\u001b[0;34m\u001b[0m\u001b[0m\n\u001b[0m\u001b[1;32m     70\u001b[0m             \u001b[0;32mif\u001b[0m \u001b[0ms\u001b[0m\u001b[0;34m.\u001b[0m\u001b[0mstartswith\u001b[0m\u001b[0;34m(\u001b[0m\u001b[0;34m'org.apache.spark.sql.catalyst.analysis'\u001b[0m\u001b[0;34m)\u001b[0m\u001b[0;34m:\u001b[0m\u001b[0;34m\u001b[0m\u001b[0;34m\u001b[0m\u001b[0m\n\u001b[1;32m     71\u001b[0m                 \u001b[0;32mraise\u001b[0m \u001b[0mAnalysisException\u001b[0m\u001b[0;34m(\u001b[0m\u001b[0ms\u001b[0m\u001b[0;34m.\u001b[0m\u001b[0msplit\u001b[0m\u001b[0;34m(\u001b[0m\u001b[0;34m': '\u001b[0m\u001b[0;34m,\u001b[0m \u001b[0;36m1\u001b[0m\u001b[0;34m)\u001b[0m\u001b[0;34m[\u001b[0m\u001b[0;36m1\u001b[0m\u001b[0;34m]\u001b[0m\u001b[0;34m,\u001b[0m \u001b[0mstackTrace\u001b[0m\u001b[0;34m)\u001b[0m\u001b[0;34m\u001b[0m\u001b[0;34m\u001b[0m\u001b[0m\n",
      "\u001b[0;31mAnalysisException\u001b[0m: 'Path does not exist: file:/Users/kuba/development/datasets/ContaminatedBoston.csv;'"
     ]
    }
   ],
   "source": [
    "import random\n",
    "from pyspark.sql import SparkSession\n",
    "from pyspark.sql.types import *\n",
    "from pyspark.ml.feature import Imputer\n",
    "\n",
    "import pyspark.sql.functions as F\n",
    "\n",
    "spark = SparkSession\\\n",
    "                    .builder\\\n",
    "                    .master('local')\\\n",
    "                    .appName(\"pyspark local testing\")\\\n",
    "                    .getOrCreate()\n",
    "\n",
    "df = spark.read.csv(\"../datasets/ContaminatedBoston.csv\", inferSchema=True, header=True)\n",
    "\n",
    "# Only a couple missing values initially.\n",
    "# Easier to compare imputation methods with them gone\n",
    "df = df.dropna()\n",
    "df.show()"
   ]
  },
  {
   "cell_type": "code",
   "execution_count": 3,
   "metadata": {},
   "outputs": [
    {
     "name": "stdout",
     "output_type": "stream",
     "text": [
      "root\n",
      " |-- _c0: integer (nullable = true)\n",
      " |-- crim: double (nullable = true)\n",
      " |-- zn: double (nullable = true)\n",
      " |-- indus: double (nullable = true)\n",
      " |-- chas: integer (nullable = true)\n",
      " |-- nox: double (nullable = true)\n",
      " |-- rm: double (nullable = true)\n",
      " |-- age: double (nullable = true)\n",
      " |-- dis: double (nullable = true)\n",
      " |-- rad: integer (nullable = true)\n",
      " |-- tax: integer (nullable = true)\n",
      " |-- ptratio: double (nullable = true)\n",
      " |-- black: double (nullable = true)\n",
      " |-- lstat: double (nullable = true)\n",
      " |-- medv: double (nullable = true)\n",
      "\n"
     ]
    }
   ],
   "source": [
    "df.printSchema()"
   ]
  },
  {
   "cell_type": "markdown",
   "metadata": {},
   "source": [
    "### Create missing data\n",
    "\n",
    "\n",
    "This was only used for initially creating the MCAR data"
   ]
  },
  {
   "cell_type": "code",
   "execution_count": 9,
   "metadata": {},
   "outputs": [
    {
     "ename": "IndentationError",
     "evalue": "expected an indented block (<ipython-input-9-a8a4a96667c0>, line 3)",
     "output_type": "error",
     "traceback": [
      "\u001b[0;36m  File \u001b[0;32m\"<ipython-input-9-a8a4a96667c0>\"\u001b[0;36m, line \u001b[0;32m3\u001b[0m\n\u001b[0;31m    nan = float('nan')\u001b[0m\n\u001b[0m      ^\u001b[0m\n\u001b[0;31mIndentationError\u001b[0m\u001b[0;31m:\u001b[0m expected an indented block\n"
     ]
    }
   ],
   "source": [
    "nan = float('nan')\n",
    "\n",
    "def make_5_percent_null(x):\n",
    "    if random.uniform(0, 1) < 0.05:\n",
    "        return nan\n",
    "    return x\n",
    "\n",
    "def make_10_percent_null(x):\n",
    "    if random.uniform(0, 1) < 0.1:\n",
    "        return nan\n",
    "    return x\n",
    "\n",
    "def make_15_percent_null(x):\n",
    "    if random.uniform(0, 1) < 0.15:\n",
    "        return nan\n",
    "    return x"
   ]
  },
  {
   "cell_type": "code",
   "execution_count": 135,
   "metadata": {},
   "outputs": [
    {
     "name": "stdout",
     "output_type": "stream",
     "text": [
      "+---+-------+----+-----+----+-----+-----+-----+------+---+---+-------+------+-----+----+---------+-------+----------+\n",
      "|_c0|   crim|  zn|indus|chas|  nox|   rm|  age|   dis|rad|tax|ptratio| black|lstat|medv|crim_miss|zn_miss|indus_miss|\n",
      "+---+-------+----+-----+----+-----+-----+-----+------+---+---+-------+------+-----+----+---------+-------+----------+\n",
      "|  5|0.06905| 0.0| 2.18|   0|0.458|7.147| 54.2|6.0622|  3|222|   18.7| 396.9| 5.33|36.2|  0.06905|    0.0|      null|\n",
      "|  6|0.02985| 0.0| 2.18|   0|0.458| 6.43| 58.7|6.0622|  3|222|   18.7|394.12| 5.21|28.7|  0.02985|    0.0|      2.18|\n",
      "|  7|0.08829|12.5| 7.87|   0|0.524|6.012| 66.6|5.5605|  5|311|   15.2| 395.6|12.43|22.9|  0.08829|   12.5|      7.87|\n",
      "|  8|0.14455|12.5| 7.87|   0|0.524|6.172| 96.1|5.9505|  5|311|   15.2| 396.9|19.15|27.1|  0.14455|   12.5|      7.87|\n",
      "|  9|0.21124|12.5| 7.87|   0|0.524|5.631|100.0|6.0821|  5|311|   15.2|386.63|29.93|16.5|  0.21124|   12.5|      null|\n",
      "| 10|0.17004|12.5| 7.87|   0|0.524|6.004| 85.9|6.5921|  5|311|   15.2|386.71| 17.1|18.9|  0.17004|   12.5|      7.87|\n",
      "| 11|0.22489|12.5| 7.87|   0|0.524|6.377| 94.3|6.3467|  5|311|   15.2|392.52|20.45|15.0|  0.22489|   12.5|      7.87|\n",
      "| 12|0.11747|12.5| 7.87|   0|0.524|6.009| 82.9|6.2267|  5|311|   15.2| 396.9|13.27|18.9|  0.11747|   null|      7.87|\n",
      "| 13|0.09378|12.5| 7.87|   0|0.524|5.889| 39.0|5.4509|  5|311|   15.2| 390.5|15.71|21.7|  0.09378|   12.5|      7.87|\n",
      "| 14|0.62976| 0.0| 8.14|   0|0.538|5.949| 61.8|4.7075|  4|307|   21.0| 396.9| 8.26|20.4|  0.62976|    0.0|      8.14|\n",
      "| 15|0.63796| 0.0| 8.14|   0|0.538|6.096| 84.5|4.4619|  4|307|   21.0|380.02|10.26|18.2|  0.63796|    0.0|      8.14|\n",
      "| 16|0.62739| 0.0| 8.14|   0|0.538|5.834| 56.5|4.4986|  4|307|   21.0|395.62| 8.47|19.9|  0.62739|    0.0|      8.14|\n",
      "| 17|1.05393| 0.0| 8.14|   0|0.538|5.935| 29.3|4.4986|  4|307|   21.0|386.85| 6.58|23.1|  1.05393|    0.0|      8.14|\n",
      "| 18| 0.7842| 0.0| 8.14|   0|0.538| 5.99| 81.7|4.2579|  4|307|   21.0|386.75|14.67|17.5|   0.7842|    0.0|      null|\n",
      "| 19|0.80271| 0.0| 8.14|   0|0.538|5.456| 36.6|3.7965|  4|307|   21.0|288.99|11.69|20.2|  0.80271|    0.0|      8.14|\n",
      "| 20| 0.7258| 0.0| 8.14|   0|0.538|5.727| 69.5|3.7965|  4|307|   21.0|390.95|11.28|18.2|   0.7258|    0.0|      8.14|\n",
      "| 21|1.25179| 0.0| 8.14|   0|0.538| 5.57| 98.1|3.7979|  4|307|   21.0|376.57|21.02|13.6|  1.25179|    0.0|      8.14|\n",
      "| 22|0.85204| 0.0| 8.14|   0|0.538|5.965| 89.2|4.0123|  4|307|   21.0|392.53|13.83|19.6|  0.85204|    0.0|      8.14|\n",
      "| 23|1.23247| 0.0| 8.14|   0|0.538|6.142| 91.7|3.9769|  4|307|   21.0| 396.9|18.72|15.2|  1.23247|    0.0|      8.14|\n",
      "| 24|0.98843| 0.0| 8.14|   0|0.538|5.813|100.0|4.0952|  4|307|   21.0|394.54|19.88|14.5|  0.98843|    0.0|      8.14|\n",
      "+---+-------+----+-----+----+-----+-----+-----+------+---+---+-------+------+-----+----+---------+-------+----------+\n",
      "only showing top 20 rows\n",
      "\n"
     ]
    }
   ],
   "source": [
    "df_miss = spark.read.csv(\"boston_housing_mcar.csv\", inferSchema=True, header=True)\\\n",
    "               .replace(float(\"nan\"), None, subset=[\"zn_miss\", \"crim_miss\", \"indus_miss\"])\n",
    "\n",
    "df_miss.show()\n",
    "#\n",
    "# used for creating the missing data\n",
    "#\n",
    "# null_5pct = F.udf(make_5_percent_null, FloatType())\n",
    "# null_10pct = F.udf(make_10_percent_null, FloatType())\n",
    "# null_15pct = F.udf(make_15_percent_null, FloatType())\n",
    "\n",
    "# df_miss = df\n",
    "\n",
    "# df_miss = df_miss.withColumn(\"crim_miss\", null_5pct(\"crim\"))\\\n",
    "#                  .withColumn(\"zn_miss\", null_10pct(\"zn\"))\\\n",
    "#                  .withColumn(\"indus_miss\", null_15pct(\"indus\"))\n",
    "\n",
    "# df_miss.show()\n",
    "\n",
    "# df_miss.write.format(\"csv\").option(\"header\", \"true\").save(\"boston_housing_mcar.csv\")"
   ]
  },
  {
   "cell_type": "code",
   "execution_count": 137,
   "metadata": {},
   "outputs": [
    {
     "name": "stdout",
     "output_type": "stream",
     "text": [
      "+---+----+---+-----+----+---+---+---+---+---+---+-------+-----+-----+----+---------+-------+----------+\n",
      "|_c0|crim| zn|indus|chas|nox| rm|age|dis|rad|tax|ptratio|black|lstat|medv|crim_miss|zn_miss|indus_miss|\n",
      "+---+----+---+-----+----+---+---+---+---+---+---+-------+-----+-----+----+---------+-------+----------+\n",
      "|  0|   0|  0|    0|   0|  0|  0|  0|  0|  0|  0|      0|    0|    0|   0|       26|     56|        91|\n",
      "+---+----+---+-----+----+---+---+---+---+---+---+-------+-----+-----+----+---------+-------+----------+\n",
      "\n"
     ]
    }
   ],
   "source": [
    "# counts of missing values per column\n",
    "\n",
    "df_miss.select(\n",
    "    [F.count(F.when(F.isnan(c) | F.col(c).isNull(), c)).alias(c)\\\n",
    "     for c in df_miss.columns])\\\n",
    ".show()"
   ]
  },
  {
   "cell_type": "code",
   "execution_count": 138,
   "metadata": {},
   "outputs": [],
   "source": [
    "# Missing data columns\n",
    "\n",
    "crim_miss, zn_miss, indus_miss = \"crim_miss\", \"zn_miss\", \"indus_miss\""
   ]
  },
  {
   "cell_type": "markdown",
   "metadata": {},
   "source": [
    "# Linear Regression Imputation"
   ]
  },
  {
   "cell_type": "markdown",
   "metadata": {},
   "source": [
    "### No initial imputation"
   ]
  },
  {
   "cell_type": "code",
   "execution_count": 139,
   "metadata": {},
   "outputs": [
    {
     "name": "stdout",
     "output_type": "stream",
     "text": [
      "+--------------------+----+\n",
      "|            features|  zn|\n",
      "+--------------------+----+\n",
      "|[0.06905,2.18,0.0...| 0.0|\n",
      "|[0.02985,2.18,0.0...| 0.0|\n",
      "|[0.08829,7.87,0.0...|12.5|\n",
      "|[0.14455,7.87,0.0...|12.5|\n",
      "|[0.21124,7.87,0.0...|12.5|\n",
      "+--------------------+----+\n",
      "only showing top 5 rows\n",
      "\n"
     ]
    }
   ],
   "source": [
    "from pyspark.ml.feature import VectorAssembler\n",
    "\n",
    "assembler = VectorAssembler(inputCols=[\"crim\", \"indus\", \"chas\", \"nox\"], outputCol=\"features\")\n",
    "output = assembler.transform(df_miss)"
   ]
  },
  {
   "cell_type": "code",
   "execution_count": 140,
   "metadata": {},
   "outputs": [
    {
     "name": "stdout",
     "output_type": "stream",
     "text": [
      "+--------------------+----+\n",
      "|            features|  zn|\n",
      "+--------------------+----+\n",
      "|[0.06905,2.18,0.0...| 0.0|\n",
      "|[0.02985,2.18,0.0...| 0.0|\n",
      "|[0.08829,7.87,0.0...|12.5|\n",
      "|[0.14455,7.87,0.0...|12.5|\n",
      "|[0.21124,7.87,0.0...|12.5|\n",
      "|[0.17004,7.87,0.0...|12.5|\n",
      "|[0.22489,7.87,0.0...|12.5|\n",
      "|[0.11747,7.87,0.0...|12.5|\n",
      "|[0.09378,7.87,0.0...|12.5|\n",
      "|[0.62976,8.14,0.0...| 0.0|\n",
      "|[0.63796,8.14,0.0...| 0.0|\n",
      "|[0.62739,8.14,0.0...| 0.0|\n",
      "|[1.05393,8.14,0.0...| 0.0|\n",
      "|[0.7842,8.14,0.0,...| 0.0|\n",
      "|[0.80271,8.14,0.0...| 0.0|\n",
      "|[0.7258,8.14,0.0,...| 0.0|\n",
      "|[1.25179,8.14,0.0...| 0.0|\n",
      "|[0.85204,8.14,0.0...| 0.0|\n",
      "|[1.23247,8.14,0.0...| 0.0|\n",
      "|[0.98843,8.14,0.0...| 0.0|\n",
      "+--------------------+----+\n",
      "only showing top 20 rows\n",
      "\n"
     ]
    }
   ],
   "source": [
    "final_data = output.select('features', 'zn')\n",
    "final_data.show()"
   ]
  },
  {
   "cell_type": "code",
   "execution_count": 141,
   "metadata": {},
   "outputs": [
    {
     "data": {
      "text/plain": [
       "DenseVector([0.1542, -1.1923, 0.571, -55.9202])"
      ]
     },
     "execution_count": 141,
     "metadata": {},
     "output_type": "execute_result"
    }
   ],
   "source": [
    "from pyspark.ml.regression import LinearRegression\n",
    "\n",
    "lm = LinearRegression(featuresCol=\"features\", labelCol=\"zn\")\n",
    "\n",
    "trained_model = lm.fit(final_data)\n",
    "\n",
    "model_results = trained_model.evaluate(final_data)\n",
    "no_impute_coefs = trained_model.coefficients\n",
    "no_impute_coefs"
   ]
  },
  {
   "cell_type": "code",
   "execution_count": 143,
   "metadata": {},
   "outputs": [],
   "source": [
    "from pyspark.ml.linalg import DenseVector, VectorUDT\n",
    "from pyspark.sql.functions import when, col, lit, udf"
   ]
  },
  {
   "cell_type": "code",
   "execution_count": 144,
   "metadata": {},
   "outputs": [],
   "source": [
    "def vec_col(x):\n",
    "    return udf(lambda: x, VectorUDT())()\n",
    "\n",
    "def dot_prod(vec1, vec2):\n",
    "    # NEEDS to be wrapped in float(). py4j can't translate numpy.float64 --> float in Java.\n",
    "    return float(vec1.dot(vec2))\n",
    "\n",
    "udf_dot_prod = udf(lambda vec1, vec2: dot_prod(vec1, vec2), FloatType())"
   ]
  },
  {
   "cell_type": "code",
   "execution_count": 146,
   "metadata": {},
   "outputs": [
    {
     "name": "stdout",
     "output_type": "stream",
     "text": [
      "+---+-------+----+-----+----+-----+-----+-----+------+---+---+-------+------+-----+----+---------+------------------+----------+--------------------+--------------------+\n",
      "|_c0|   crim|  zn|indus|chas|  nox|   rm|  age|   dis|rad|tax|ptratio| black|lstat|medv|crim_miss|           zn_miss|indus_miss|            features|               coefs|\n",
      "+---+-------+----+-----+----+-----+-----+-----+------+---+---+-------+------+-----+----+---------+------------------+----------+--------------------+--------------------+\n",
      "|  5|0.06905| 0.0| 2.18|   0|0.458|7.147| 54.2|6.0622|  3|222|   18.7| 396.9| 5.33|36.2|  0.06905|               0.0|      null|[0.06905,2.18,0.0...|[0.15419254703355...|\n",
      "|  6|0.02985| 0.0| 2.18|   0|0.458| 6.43| 58.7|6.0622|  3|222|   18.7|394.12| 5.21|28.7|  0.02985|               0.0|      2.18|[0.02985,2.18,0.0...|[0.15419254703355...|\n",
      "|  7|0.08829|12.5| 7.87|   0|0.524|6.012| 66.6|5.5605|  5|311|   15.2| 395.6|12.43|22.9|  0.08829|              12.5|      7.87|[0.08829,7.87,0.0...|[0.15419254703355...|\n",
      "|  8|0.14455|12.5| 7.87|   0|0.524|6.172| 96.1|5.9505|  5|311|   15.2| 396.9|19.15|27.1|  0.14455|              12.5|      7.87|[0.14455,7.87,0.0...|[0.15419254703355...|\n",
      "|  9|0.21124|12.5| 7.87|   0|0.524|5.631|100.0|6.0821|  5|311|   15.2|386.63|29.93|16.5|  0.21124|              12.5|      null|[0.21124,7.87,0.0...|[0.15419254703355...|\n",
      "| 10|0.17004|12.5| 7.87|   0|0.524|6.004| 85.9|6.5921|  5|311|   15.2|386.71| 17.1|18.9|  0.17004|              12.5|      7.87|[0.17004,7.87,0.0...|[0.15419254703355...|\n",
      "| 11|0.22489|12.5| 7.87|   0|0.524|6.377| 94.3|6.3467|  5|311|   15.2|392.52|20.45|15.0|  0.22489|              12.5|      7.87|[0.22489,7.87,0.0...|[0.15419254703355...|\n",
      "| 12|0.11747|12.5| 7.87|   0|0.524|6.009| 82.9|6.2267|  5|311|   15.2| 396.9|13.27|18.9|  0.11747|-38.66722869873047|      7.87|[0.11747,7.87,0.0...|[0.15419254703355...|\n",
      "| 13|0.09378|12.5| 7.87|   0|0.524|5.889| 39.0|5.4509|  5|311|   15.2| 390.5|15.71|21.7|  0.09378|              12.5|      7.87|[0.09378,7.87,0.0...|[0.15419254703355...|\n",
      "| 14|0.62976| 0.0| 8.14|   0|0.538|5.949| 61.8|4.7075|  4|307|   21.0| 396.9| 8.26|20.4|  0.62976|               0.0|      8.14|[0.62976,8.14,0.0...|[0.15419254703355...|\n",
      "| 15|0.63796| 0.0| 8.14|   0|0.538|6.096| 84.5|4.4619|  4|307|   21.0|380.02|10.26|18.2|  0.63796|               0.0|      8.14|[0.63796,8.14,0.0...|[0.15419254703355...|\n",
      "| 16|0.62739| 0.0| 8.14|   0|0.538|5.834| 56.5|4.4986|  4|307|   21.0|395.62| 8.47|19.9|  0.62739|               0.0|      8.14|[0.62739,8.14,0.0...|[0.15419254703355...|\n",
      "| 17|1.05393| 0.0| 8.14|   0|0.538|5.935| 29.3|4.4986|  4|307|   21.0|386.85| 6.58|23.1|  1.05393|               0.0|      8.14|[1.05393,8.14,0.0...|[0.15419254703355...|\n",
      "| 18| 0.7842| 0.0| 8.14|   0|0.538| 5.99| 81.7|4.2579|  4|307|   21.0|386.75|14.67|17.5|   0.7842|               0.0|      null|[0.7842,8.14,0.0,...|[0.15419254703355...|\n",
      "| 19|0.80271| 0.0| 8.14|   0|0.538|5.456| 36.6|3.7965|  4|307|   21.0|288.99|11.69|20.2|  0.80271|               0.0|      8.14|[0.80271,8.14,0.0...|[0.15419254703355...|\n",
      "| 20| 0.7258| 0.0| 8.14|   0|0.538|5.727| 69.5|3.7965|  4|307|   21.0|390.95|11.28|18.2|   0.7258|               0.0|      8.14|[0.7258,8.14,0.0,...|[0.15419254703355...|\n",
      "| 21|1.25179| 0.0| 8.14|   0|0.538| 5.57| 98.1|3.7979|  4|307|   21.0|376.57|21.02|13.6|  1.25179|               0.0|      8.14|[1.25179,8.14,0.0...|[0.15419254703355...|\n",
      "| 22|0.85204| 0.0| 8.14|   0|0.538|5.965| 89.2|4.0123|  4|307|   21.0|392.53|13.83|19.6|  0.85204|               0.0|      8.14|[0.85204,8.14,0.0...|[0.15419254703355...|\n",
      "| 23|1.23247| 0.0| 8.14|   0|0.538|6.142| 91.7|3.9769|  4|307|   21.0| 396.9|18.72|15.2|  1.23247|               0.0|      8.14|[1.23247,8.14,0.0...|[0.15419254703355...|\n",
      "| 24|0.98843| 0.0| 8.14|   0|0.538|5.813|100.0|4.0952|  4|307|   21.0|394.54|19.88|14.5|  0.98843|               0.0|      8.14|[0.98843,8.14,0.0...|[0.15419254703355...|\n",
      "+---+-------+----+-----+----+-----+-----+-----+------+---+---+-------+------+-----+----+---------+------------------+----------+--------------------+--------------------+\n",
      "only showing top 20 rows\n",
      "\n"
     ]
    }
   ],
   "source": [
    "# output = output.withColumn(\"zn_miss\", col(\"zn_miss\").cast(FloatType()))\n",
    "\n",
    "\n",
    "output = output\\\n",
    "                .withColumn(\"coefs\", vec_col(no_impute_coefs))\\\n",
    "                .withColumn(\"zn_miss\",\n",
    "                            when(col(\"zn_miss\").isNull(), udf_dot_prod(col(\"coefs\"), col(\"features\")))\n",
    "                            .otherwise(col(\"zn_miss\")))\n"
   ]
  },
  {
   "cell_type": "markdown",
   "metadata": {},
   "source": [
    "### Imputation Assessment\n",
    "\n",
    "**TODO:** more research into what metrics to include for imputation assessment\n",
    "\n",
    "https://stefvanbuuren.name/fimd/sec-evaluation.html\n",
    "\n",
    "https://www.frontiersin.org/articles/10.3389/fgene.2019.00034/full\n",
    "\n",
    "https://spark.apache.org/docs/2.3.0/api/python/pyspark.ml.html#module-pyspark.ml.evaluation\n"
   ]
  },
  {
   "cell_type": "code",
   "execution_count": 151,
   "metadata": {},
   "outputs": [],
   "source": [
    "from pyspark.ml.evaluation import RegressionEvaluator\n",
    "\n",
    "evaluator = RegressionEvaluator(predictionCol=\"zn_miss\", labelCol=\"zn\")"
   ]
  },
  {
   "cell_type": "code",
   "execution_count": 152,
   "metadata": {},
   "outputs": [
    {
     "data": {
      "text/plain": [
       "19.782330299741574"
      ]
     },
     "execution_count": 152,
     "metadata": {},
     "output_type": "execute_result"
    }
   ],
   "source": [
    "# RMSE\n",
    "evaluator.evaluate(output) "
   ]
  },
  {
   "cell_type": "markdown",
   "metadata": {},
   "source": [
    "### With initial imputation"
   ]
  },
  {
   "cell_type": "code",
   "execution_count": 153,
   "metadata": {},
   "outputs": [
    {
     "name": "stdout",
     "output_type": "stream",
     "text": [
      "+---+-------+----+-----+----+-----+-----+-----+------+---+---+-------+------+-----+----+---------+-------+----------+-------------+------------------+-----------------+\n",
      "|_c0|   crim|  zn|indus|chas|  nox|   rm|  age|   dis|rad|tax|ptratio| black|lstat|medv|crim_miss|zn_miss|indus_miss|crim_miss_imp|    indus_miss_imp|      zn_miss_imp|\n",
      "+---+-------+----+-----+----+-----+-----+-----+------+---+---+-------+------+-----+----+---------+-------+----------+-------------+------------------+-----------------+\n",
      "|  5|0.06905| 0.0| 2.18|   0|0.458|7.147| 54.2|6.0622|  3|222|   18.7| 396.9| 5.33|36.2|  0.06905|    0.0|      null|      0.06905|10.781411192214094|              0.0|\n",
      "|  6|0.02985| 0.0| 2.18|   0|0.458| 6.43| 58.7|6.0622|  3|222|   18.7|394.12| 5.21|28.7|  0.02985|    0.0|      2.18|      0.02985|              2.18|              0.0|\n",
      "|  7|0.08829|12.5| 7.87|   0|0.524|6.012| 66.6|5.5605|  5|311|   15.2| 395.6|12.43|22.9|  0.08829|   12.5|      7.87|      0.08829|              7.87|             12.5|\n",
      "|  8|0.14455|12.5| 7.87|   0|0.524|6.172| 96.1|5.9505|  5|311|   15.2| 396.9|19.15|27.1|  0.14455|   12.5|      7.87|      0.14455|              7.87|             12.5|\n",
      "|  9|0.21124|12.5| 7.87|   0|0.524|5.631|100.0|6.0821|  5|311|   15.2|386.63|29.93|16.5|  0.21124|   12.5|      null|      0.21124|10.781411192214094|             12.5|\n",
      "| 10|0.17004|12.5| 7.87|   0|0.524|6.004| 85.9|6.5921|  5|311|   15.2|386.71| 17.1|18.9|  0.17004|   12.5|      7.87|      0.17004|              7.87|             12.5|\n",
      "| 11|0.22489|12.5| 7.87|   0|0.524|6.377| 94.3|6.3467|  5|311|   15.2|392.52|20.45|15.0|  0.22489|   12.5|      7.87|      0.22489|              7.87|             12.5|\n",
      "| 12|0.11747|12.5| 7.87|   0|0.524|6.009| 82.9|6.2267|  5|311|   15.2| 396.9|13.27|18.9|  0.11747|   null|      7.87|      0.11747|              7.87|11.52354260089686|\n",
      "| 13|0.09378|12.5| 7.87|   0|0.524|5.889| 39.0|5.4509|  5|311|   15.2| 390.5|15.71|21.7|  0.09378|   12.5|      7.87|      0.09378|              7.87|             12.5|\n",
      "| 14|0.62976| 0.0| 8.14|   0|0.538|5.949| 61.8|4.7075|  4|307|   21.0| 396.9| 8.26|20.4|  0.62976|    0.0|      8.14|      0.62976|              8.14|              0.0|\n",
      "| 15|0.63796| 0.0| 8.14|   0|0.538|6.096| 84.5|4.4619|  4|307|   21.0|380.02|10.26|18.2|  0.63796|    0.0|      8.14|      0.63796|              8.14|              0.0|\n",
      "| 16|0.62739| 0.0| 8.14|   0|0.538|5.834| 56.5|4.4986|  4|307|   21.0|395.62| 8.47|19.9|  0.62739|    0.0|      8.14|      0.62739|              8.14|              0.0|\n",
      "| 17|1.05393| 0.0| 8.14|   0|0.538|5.935| 29.3|4.4986|  4|307|   21.0|386.85| 6.58|23.1|  1.05393|    0.0|      8.14|      1.05393|              8.14|              0.0|\n",
      "| 18| 0.7842| 0.0| 8.14|   0|0.538| 5.99| 81.7|4.2579|  4|307|   21.0|386.75|14.67|17.5|   0.7842|    0.0|      null|       0.7842|10.781411192214094|              0.0|\n",
      "| 19|0.80271| 0.0| 8.14|   0|0.538|5.456| 36.6|3.7965|  4|307|   21.0|288.99|11.69|20.2|  0.80271|    0.0|      8.14|      0.80271|              8.14|              0.0|\n",
      "| 20| 0.7258| 0.0| 8.14|   0|0.538|5.727| 69.5|3.7965|  4|307|   21.0|390.95|11.28|18.2|   0.7258|    0.0|      8.14|       0.7258|              8.14|              0.0|\n",
      "| 21|1.25179| 0.0| 8.14|   0|0.538| 5.57| 98.1|3.7979|  4|307|   21.0|376.57|21.02|13.6|  1.25179|    0.0|      8.14|      1.25179|              8.14|              0.0|\n",
      "| 22|0.85204| 0.0| 8.14|   0|0.538|5.965| 89.2|4.0123|  4|307|   21.0|392.53|13.83|19.6|  0.85204|    0.0|      8.14|      0.85204|              8.14|              0.0|\n",
      "| 23|1.23247| 0.0| 8.14|   0|0.538|6.142| 91.7|3.9769|  4|307|   21.0| 396.9|18.72|15.2|  1.23247|    0.0|      8.14|      1.23247|              8.14|              0.0|\n",
      "| 24|0.98843| 0.0| 8.14|   0|0.538|5.813|100.0|4.0952|  4|307|   21.0|394.54|19.88|14.5|  0.98843|    0.0|      8.14|      0.98843|              8.14|              0.0|\n",
      "+---+-------+----+-----+----+-----+-----+-----+------+---+---+-------+------+-----+----+---------+-------+----------+-------------+------------------+-----------------+\n",
      "only showing top 20 rows\n",
      "\n"
     ]
    }
   ],
   "source": [
    "imputer = Imputer(strategy=\"mean\",\n",
    "                  inputCols=[\"crim_miss\", \"indus_miss\", \"zn_miss\"],\n",
    "                  outputCols=[\"crim_miss_imp\", \"indus_miss_imp\", \"zn_miss_imp\"])\n",
    "\n",
    "df_miss_imp = imputer.fit(df_miss).transform(df_miss)\n",
    "df_miss_imp.show()"
   ]
  },
  {
   "cell_type": "code",
   "execution_count": 154,
   "metadata": {},
   "outputs": [],
   "source": [
    "assembler = VectorAssembler(inputCols=[\"crim_miss_imp\", \"indus_miss_imp\", \"chas\", \"nox\"], outputCol=\"features\")\n",
    "output = assembler.transform(df_miss_imp)"
   ]
  },
  {
   "cell_type": "code",
   "execution_count": 155,
   "metadata": {},
   "outputs": [],
   "source": [
    "final_data = output.select('features', 'zn_miss_imp')"
   ]
  },
  {
   "cell_type": "code",
   "execution_count": 156,
   "metadata": {},
   "outputs": [
    {
     "data": {
      "text/plain": [
       "DenseVector([0.1195, -0.9986, 0.0404, -58.228])"
      ]
     },
     "execution_count": 156,
     "metadata": {},
     "output_type": "execute_result"
    }
   ],
   "source": [
    "lm = LinearRegression(featuresCol=\"features\", labelCol=\"zn_miss_imp\")\n",
    "\n",
    "trained_model = lm.fit(final_data)\n",
    "\n",
    "model_results = trained_model.evaluate(final_data)\n",
    "impute_coefs = trained_model.coefficients\n",
    "impute_coefs"
   ]
  },
  {
   "cell_type": "code",
   "execution_count": 157,
   "metadata": {},
   "outputs": [],
   "source": [
    "output = output\\\n",
    "                .withColumn(\"coefs\", vec_col(impute_coefs))\\\n",
    "                .withColumn(\"zn_miss\",\n",
    "                            when(col(\"zn_miss\").isNull(), udf_dot_prod(col(\"coefs\"), col(\"features\")))\n",
    "                            .otherwise(col(\"zn_miss\")))\n"
   ]
  },
  {
   "cell_type": "code",
   "execution_count": 158,
   "metadata": {},
   "outputs": [
    {
     "data": {
      "text/plain": [
       "19.50352712741658"
      ]
     },
     "execution_count": 158,
     "metadata": {},
     "output_type": "execute_result"
    }
   ],
   "source": [
    "evaluator = RegressionEvaluator(predictionCol=\"zn_miss\", labelCol=\"zn\")\n",
    "\n",
    "# RMSE\n",
    "evaluator.evaluate(output) "
   ]
  },
  {
   "cell_type": "markdown",
   "metadata": {},
   "source": [
    "## Initial Imputation vs No Initial Imputation\n",
    "\n",
    "Without initial imputation on `zn_miss`, the RMSE is: 19.782330299741574\n",
    "\n",
    "With initial imputation on `zn_miss`, the RMSE is: 19.50352712741658\n",
    "\n",
    "Which in this unscientific example, is a ~1.41% improvement."
   ]
  },
  {
   "cell_type": "markdown",
   "metadata": {},
   "source": [
    "# Next Steps\n",
    "\n",
    "1. Build out the Linear Regression Imputer class\n",
    "    1. Create tests\n",
    "        \n",
    "2. Look into imputation diagnostics and inference of models in the context of imputation\n",
    "    1. Create general function / class for basic summary statistics for columns before/after imputation."
   ]
  },
  {
   "cell_type": "code",
   "execution_count": null,
   "metadata": {},
   "outputs": [],
   "source": []
  }
 ],
 "metadata": {
  "kernelspec": {
   "display_name": "Python 3",
   "language": "python",
   "name": "python3"
  },
  "language_info": {
   "codemirror_mode": {
    "name": "ipython",
    "version": 3
   },
   "file_extension": ".py",
   "mimetype": "text/x-python",
   "name": "python",
   "nbconvert_exporter": "python",
   "pygments_lexer": "ipython3",
   "version": "3.6.10"
  }
 },
 "nbformat": 4,
 "nbformat_minor": 4
}
