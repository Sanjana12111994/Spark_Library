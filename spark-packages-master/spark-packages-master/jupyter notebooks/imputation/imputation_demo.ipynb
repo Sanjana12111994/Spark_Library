{
 "cells": [
  {
   "cell_type": "markdown",
   "metadata": {},
   "source": [
    "# Reusable Spark Libraries -- Missing Data Imputation"
   ]
  },
  {
   "cell_type": "markdown",
   "metadata": {},
   "source": [
    "#### Handling missing data is a big part of our job, so a consistent, common set of tools to handle it is important."
   ]
  },
  {
   "cell_type": "markdown",
   "metadata": {},
   "source": [
    "### Imports & Setup"
   ]
  },
  {
   "cell_type": "code",
   "execution_count": 1,
   "metadata": {},
   "outputs": [],
   "source": [
    "%load_ext autoreload\n",
    "%autoreload 2"
   ]
  },
  {
   "cell_type": "code",
   "execution_count": 2,
   "metadata": {},
   "outputs": [],
   "source": [
    "import pandas as pd\n",
    "from pyspark.sql import SparkSession\n",
    "from pyspark.sql.types import *\n",
    "import pyspark.sql.functions as F\n",
    "\n",
    "from src.main.imputation.simple_imputer import SimpleImputer\n",
    "from src.main.imputation.mean_imputer import MeanImputer\n",
    "from src.main.imputation.median_imputer import MedianImputer\n",
    "from src.main.imputation.mode_imputer import ModeImputer\n",
    "from src.main.imputation.forward_fill_imputer import ForwardFillImputer\n",
    "from src.main.imputation.backward_fill_imputer import BackwardFillImputer\n",
    "from src.main.imputation.linear_regression_imputer import LinearRegressionImputer\n"
   ]
  },
  {
   "cell_type": "code",
   "execution_count": 3,
   "metadata": {},
   "outputs": [],
   "source": [
    "spark = SparkSession \\\n",
    "                    .builder \\\n",
    "                    .master('local') \\\n",
    "                    .appName(\"Imputation Demo\") \\\n",
    "                    .getOrCreate()"
   ]
  },
  {
   "cell_type": "code",
   "execution_count": 4,
   "metadata": {},
   "outputs": [],
   "source": [
    "ts_data_path = \"../datasets/demo_data.csv\"\n",
    "\n",
    "data_ts = pd.read_csv(ts_data_path)\n",
    "\n",
    "schema_ts = StructType([\n",
    "    StructField(\"CustomerId\", IntegerType()),\n",
    "    StructField(\"AccountType\", StringType()),\n",
    "    StructField(\"Country\", StringType()),\n",
    "    StructField(\"Date\", StringType()),\n",
    "    StructField(\"Balances\", FloatType()),\n",
    "    StructField(\"MaxAccountBalance\", IntegerType()),\n",
    "    StructField(\"EliteMember\", StringType())\n",
    "])\n",
    "\n",
    "df_ts = spark \\\n",
    "    .createDataFrame(data=data_ts, schema=schema_ts) \\\n",
    "    .withColumn(\"Date\", F.to_date(F.col(\"Date\"), \"yyyy-mm-dd\")) \\\n",
    "    .replace(float(\"nan\"), None) \\\n",
    "    .replace(\"NaN\", None)\n"
   ]
  },
  {
   "cell_type": "code",
   "execution_count": 5,
   "metadata": {},
   "outputs": [
    {
     "name": "stdout",
     "output_type": "stream",
     "text": [
      "+----------+-----------+-------+----------+--------+-----------------+-----------+\n",
      "|CustomerId|AccountType|Country|      Date|Balances|MaxAccountBalance|EliteMember|\n",
      "+----------+-----------+-------+----------+--------+-----------------+-----------+\n",
      "|    882704|    Current|     CA|2019-01-01|    null|          7143141|        Yes|\n",
      "|     92929|    Savings|     US|2019-01-01|221680.0|          6554191|         No|\n",
      "|    625741|    Savings|     CA|2019-01-01|560797.0|          2731430|       null|\n",
      "|    711485|    Current|     CA|2019-01-01| 29739.0|          5973700|         No|\n",
      "|    882704|    Current|     CA|2019-01-02| 85406.0|          7143141|        Yes|\n",
      "|     92929|    Savings|     US|2019-01-02|695791.0|          6554191|         No|\n",
      "|    625741|    Savings|     CA|2019-01-02|740800.0|          2731430|       null|\n",
      "|    711485|    Current|     CA|2019-01-02| 22494.0|          5973700|         No|\n",
      "|    882704|    Current|     CA|2019-01-03|    null|          7143141|        Yes|\n",
      "|     92929|    Savings|     US|2019-01-03|    null|          6554191|         No|\n",
      "|    625741|    Savings|     CA|2019-01-03|    null|          2731430|       null|\n",
      "|    711485|    Current|     CA|2019-01-03|    null|          5973700|         No|\n",
      "|    882704|    Current|     CA|2019-01-04| 35378.0|          7143141|        Yes|\n",
      "|     92929|    Savings|     US|2019-01-04|669368.0|          6554191|         No|\n",
      "|    625741|    Savings|     CA|2019-01-04|239061.0|          2731430|       null|\n",
      "|    711485|    Current|     CA|2019-01-04| 90029.0|          5973700|         No|\n",
      "|    882704|    Current|     CA|2019-01-05| 64242.0|          7143141|        Yes|\n",
      "|     92929|    Savings|     US|2019-01-05|348640.0|          6554191|         No|\n",
      "|    625741|    Savings|     CA|2019-01-05|843905.0|          2731430|       null|\n",
      "|    711485|    Current|     CA|2019-01-05| 47117.0|          5973700|         No|\n",
      "+----------+-----------+-------+----------+--------+-----------------+-----------+\n",
      "\n"
     ]
    }
   ],
   "source": [
    "df_ts.show()"
   ]
  },
  {
   "cell_type": "markdown",
   "metadata": {},
   "source": [
    "# Imputation Demo"
   ]
  },
  {
   "cell_type": "markdown",
   "metadata": {},
   "source": [
    "## Simple Imputer\n"
   ]
  },
  {
   "cell_type": "markdown",
   "metadata": {},
   "source": [
    "#### Well-documented, easy to understand.\n",
    "\n",
    "All imputation classes are well-documented with all pertinent information easily available.\n",
    "\n"
   ]
  },
  {
   "cell_type": "code",
   "execution_count": 6,
   "metadata": {},
   "outputs": [
    {
     "name": "stdout",
     "output_type": "stream",
     "text": [
      "\n",
      "    A class that acts as a wrapper for Mean, Median, Mode, Forward/Backward Fill imputation in their most simple form.\n",
      "\n",
      "    For more nuanced usage of the methods, use the individual imputers themselves.\n",
      "\n",
      "    Parameters\n",
      "    ----------\n",
      "    strategy : str\n",
      "        The single imputation method to use in its most simple form.\n",
      "        Defaults to `mean` if not specified.\n",
      "        Currently, `mean`, `median`, `mode`, `ffill`, and `bfill` are supported.\n",
      "        Any imputation method that can map `input_cols`[i] -> `output_cols`[i] can be implemented.\n",
      "    input_cols : List[str]\n",
      "        A list of column names with missing values to be imputed.\n",
      "    output_cols : List[str]\n",
      "        A list of column names where for index i in 0, ..., n-1 for\n",
      "        input_cols of length n, input_cols[i] -> output_cols[i].\n",
      "        Defaults to equaling input_cols and overwrites the input columns.\n",
      "    missing_value : float\n",
      "        A specified value to be imputed in addition to `null`.\n",
      "    relative_error : float\n",
      "        The margin of error allowed for imputing by the median.\n",
      "        Defaults to 0.001 as per pyspark.ml.feature.Imputer.\n",
      "    order_by_cols : List[str]\n",
      "        The column to give meaningful order to the DataFrame when using\n",
      "        a Window function.\n",
      "\n",
      "    See Also\n",
      "    -------\n",
      "    HasStrategy, HasInputOutputCols, HasMissingValue, HasRelativeError, HasOrderByCols\n",
      "\n",
      "    Notes\n",
      "    -----\n",
      "    Single imputation methods treat the imputed value as the \"true\" value, which does not account for any\n",
      "    uncertainty in the imputation, often resulting in variance being underestimated as well as an\n",
      "    overestimation of precision.\n",
      "\n",
      "    References\n",
      "    ----------\n",
      "    [1] Donders et al. (2006). Review: A gentle introduction to imputation of missing values.\n",
      "        Journal of Clinical Epidemiology, 59(10), 1087-1091.\n",
      "\n",
      "    Examples\n",
      "    -------\n",
      "    >>> df = spark.createDataFrame([(1.0,), (2.0,), (3.0,), (float(\"nan\"), )], [\"values\"])\n",
      "    >>> simple_imputer = SimpleImputer(input_cols=[\"values\"])\n",
      "    >>> simple_imputer.impute(df).show()\n",
      "    +------+\n",
      "    |values|\n",
      "    +------+\n",
      "    |   1.0|\n",
      "    |   2.0|\n",
      "    |   3.0|\n",
      "    |   2.0|\n",
      "    +------+\n",
      "\n",
      "    >>> simple_imputer.output_cols = [\"values_imputed\"]\n",
      "    >>> simple_imputer.strategy = \"median\"\n",
      "    >>> simple_imputer.impute(df).show()\n",
      "    +------+--------------+\n",
      "    |values|values_imputed|\n",
      "    +------+--------------+\n",
      "    |   1.0|           1.0|\n",
      "    |   2.0|           2.0|\n",
      "    |   3.0|           3.0|\n",
      "    |   NaN|           2.0|\n",
      "    +------+--------------+\n",
      "\n",
      "    \n"
     ]
    }
   ],
   "source": [
    "print(SimpleImputer.__doc__)"
   ]
  },
  {
   "cell_type": "markdown",
   "metadata": {},
   "source": [
    "#### Basic usage\n",
    "\n",
    "Simple Imputer defaults to using `mean` to impute a column."
   ]
  },
  {
   "cell_type": "code",
   "execution_count": 7,
   "metadata": {},
   "outputs": [
    {
     "name": "stdout",
     "output_type": "stream",
     "text": [
      "+----------+-----------+-------+----------+---------+-----------------+-----------+\n",
      "|CustomerId|AccountType|Country|      Date| Balances|MaxAccountBalance|EliteMember|\n",
      "+----------+-----------+-------+----------+---------+-----------------+-----------+\n",
      "|    882704|    Current|     CA|2019-01-01|312963.12|          7143141|        Yes|\n",
      "|     92929|    Savings|     US|2019-01-01| 221680.0|          6554191|         No|\n",
      "|    625741|    Savings|     CA|2019-01-01| 560797.0|          2731430|       null|\n",
      "|    711485|    Current|     CA|2019-01-01|  29739.0|          5973700|         No|\n",
      "|    882704|    Current|     CA|2019-01-02|  85406.0|          7143141|        Yes|\n",
      "|     92929|    Savings|     US|2019-01-02| 695791.0|          6554191|         No|\n",
      "|    625741|    Savings|     CA|2019-01-02| 740800.0|          2731430|       null|\n",
      "|    711485|    Current|     CA|2019-01-02|  22494.0|          5973700|         No|\n",
      "|    882704|    Current|     CA|2019-01-03|312963.12|          7143141|        Yes|\n",
      "|     92929|    Savings|     US|2019-01-03|312963.12|          6554191|         No|\n",
      "|    625741|    Savings|     CA|2019-01-03|312963.12|          2731430|       null|\n",
      "|    711485|    Current|     CA|2019-01-03|312963.12|          5973700|         No|\n",
      "|    882704|    Current|     CA|2019-01-04|  35378.0|          7143141|        Yes|\n",
      "|     92929|    Savings|     US|2019-01-04| 669368.0|          6554191|         No|\n",
      "|    625741|    Savings|     CA|2019-01-04| 239061.0|          2731430|       null|\n",
      "|    711485|    Current|     CA|2019-01-04|  90029.0|          5973700|         No|\n",
      "|    882704|    Current|     CA|2019-01-05|  64242.0|          7143141|        Yes|\n",
      "|     92929|    Savings|     US|2019-01-05| 348640.0|          6554191|         No|\n",
      "|    625741|    Savings|     CA|2019-01-05| 843905.0|          2731430|       null|\n",
      "|    711485|    Current|     CA|2019-01-05|  47117.0|          5973700|         No|\n",
      "+----------+-----------+-------+----------+---------+-----------------+-----------+\n",
      "\n"
     ]
    }
   ],
   "source": [
    "simple_imputer = SimpleImputer(input_cols=[\"Balances\"])\n",
    "\n",
    "simple_imputer.impute(df_ts).show()"
   ]
  },
  {
   "cell_type": "markdown",
   "metadata": {},
   "source": [
    "We can specify output columns to preserve original columns"
   ]
  },
  {
   "cell_type": "code",
   "execution_count": 8,
   "metadata": {},
   "outputs": [
    {
     "name": "stdout",
     "output_type": "stream",
     "text": [
      "+----------+-----------+-------+----------+--------+-----------------+-----------+---------------+\n",
      "|CustomerId|AccountType|Country|      Date|Balances|MaxAccountBalance|EliteMember|BalancesImputed|\n",
      "+----------+-----------+-------+----------+--------+-----------------+-----------+---------------+\n",
      "|    882704|    Current|     CA|2019-01-01|    null|          7143141|        Yes|      312963.12|\n",
      "|     92929|    Savings|     US|2019-01-01|221680.0|          6554191|         No|       221680.0|\n",
      "|    625741|    Savings|     CA|2019-01-01|560797.0|          2731430|       null|       560797.0|\n",
      "|    711485|    Current|     CA|2019-01-01| 29739.0|          5973700|         No|        29739.0|\n",
      "|    882704|    Current|     CA|2019-01-02| 85406.0|          7143141|        Yes|        85406.0|\n",
      "|     92929|    Savings|     US|2019-01-02|695791.0|          6554191|         No|       695791.0|\n",
      "|    625741|    Savings|     CA|2019-01-02|740800.0|          2731430|       null|       740800.0|\n",
      "|    711485|    Current|     CA|2019-01-02| 22494.0|          5973700|         No|        22494.0|\n",
      "|    882704|    Current|     CA|2019-01-03|    null|          7143141|        Yes|      312963.12|\n",
      "|     92929|    Savings|     US|2019-01-03|    null|          6554191|         No|      312963.12|\n",
      "|    625741|    Savings|     CA|2019-01-03|    null|          2731430|       null|      312963.12|\n",
      "|    711485|    Current|     CA|2019-01-03|    null|          5973700|         No|      312963.12|\n",
      "|    882704|    Current|     CA|2019-01-04| 35378.0|          7143141|        Yes|        35378.0|\n",
      "|     92929|    Savings|     US|2019-01-04|669368.0|          6554191|         No|       669368.0|\n",
      "|    625741|    Savings|     CA|2019-01-04|239061.0|          2731430|       null|       239061.0|\n",
      "|    711485|    Current|     CA|2019-01-04| 90029.0|          5973700|         No|        90029.0|\n",
      "|    882704|    Current|     CA|2019-01-05| 64242.0|          7143141|        Yes|        64242.0|\n",
      "|     92929|    Savings|     US|2019-01-05|348640.0|          6554191|         No|       348640.0|\n",
      "|    625741|    Savings|     CA|2019-01-05|843905.0|          2731430|       null|       843905.0|\n",
      "|    711485|    Current|     CA|2019-01-05| 47117.0|          5973700|         No|        47117.0|\n",
      "+----------+-----------+-------+----------+--------+-----------------+-----------+---------------+\n",
      "\n"
     ]
    }
   ],
   "source": [
    "simple_imputer.output_cols = [\"BalancesImputed\"]\n",
    "\n",
    "simple_imputer.impute(df_ts).show()"
   ]
  },
  {
   "cell_type": "markdown",
   "metadata": {},
   "source": [
    "#### Changing strategies\n",
    "\n",
    "Currently, `mean`, `median`, `mode`, `ffill`, `bfill` are supported.\n",
    "\n",
    "We only have to change the strategy, and add an `order_by_cols` param since we're working on the same column."
   ]
  },
  {
   "cell_type": "code",
   "execution_count": 9,
   "metadata": {},
   "outputs": [
    {
     "name": "stdout",
     "output_type": "stream",
     "text": [
      "+----------+-----------+-------+----------+--------+-----------------+-----------+---------------+\n",
      "|CustomerId|AccountType|Country|      Date|Balances|MaxAccountBalance|EliteMember|BalancesImputed|\n",
      "+----------+-----------+-------+----------+--------+-----------------+-----------+---------------+\n",
      "|    882704|    Current|     CA|2019-01-01|    null|          7143141|        Yes|           null|\n",
      "|     92929|    Savings|     US|2019-01-01|221680.0|          6554191|         No|       221680.0|\n",
      "|    625741|    Savings|     CA|2019-01-01|560797.0|          2731430|       null|       560797.0|\n",
      "|    711485|    Current|     CA|2019-01-01| 29739.0|          5973700|         No|        29739.0|\n",
      "|    882704|    Current|     CA|2019-01-02| 85406.0|          7143141|        Yes|        85406.0|\n",
      "|     92929|    Savings|     US|2019-01-02|695791.0|          6554191|         No|       695791.0|\n",
      "|    625741|    Savings|     CA|2019-01-02|740800.0|          2731430|       null|       740800.0|\n",
      "|    711485|    Current|     CA|2019-01-02| 22494.0|          5973700|         No|        22494.0|\n",
      "|    882704|    Current|     CA|2019-01-03|    null|          7143141|        Yes|        22494.0|\n",
      "|     92929|    Savings|     US|2019-01-03|    null|          6554191|         No|        22494.0|\n",
      "|    625741|    Savings|     CA|2019-01-03|    null|          2731430|       null|        22494.0|\n",
      "|    711485|    Current|     CA|2019-01-03|    null|          5973700|         No|        22494.0|\n",
      "|    882704|    Current|     CA|2019-01-04| 35378.0|          7143141|        Yes|        35378.0|\n",
      "|     92929|    Savings|     US|2019-01-04|669368.0|          6554191|         No|       669368.0|\n",
      "|    625741|    Savings|     CA|2019-01-04|239061.0|          2731430|       null|       239061.0|\n",
      "|    711485|    Current|     CA|2019-01-04| 90029.0|          5973700|         No|        90029.0|\n",
      "|    882704|    Current|     CA|2019-01-05| 64242.0|          7143141|        Yes|        64242.0|\n",
      "|     92929|    Savings|     US|2019-01-05|348640.0|          6554191|         No|       348640.0|\n",
      "|    625741|    Savings|     CA|2019-01-05|843905.0|          2731430|       null|       843905.0|\n",
      "|    711485|    Current|     CA|2019-01-05| 47117.0|          5973700|         No|        47117.0|\n",
      "+----------+-----------+-------+----------+--------+-----------------+-----------+---------------+\n",
      "\n"
     ]
    }
   ],
   "source": [
    "simple_imputer.strategy = \"ffill\"\n",
    "simple_imputer.order_by_cols = [\"Date\"]\n",
    "\n",
    "simple_imputer.impute(df_ts).show()"
   ]
  },
  {
   "cell_type": "markdown",
   "metadata": {},
   "source": [
    "Only need to change strategy now, since `order_by_cols` is already specified."
   ]
  },
  {
   "cell_type": "code",
   "execution_count": 10,
   "metadata": {},
   "outputs": [
    {
     "name": "stdout",
     "output_type": "stream",
     "text": [
      "+----------+-----------+-------+----------+--------+-----------------+-----------+---------------+\n",
      "|CustomerId|AccountType|Country|      Date|Balances|MaxAccountBalance|EliteMember|BalancesImputed|\n",
      "+----------+-----------+-------+----------+--------+-----------------+-----------+---------------+\n",
      "|    882704|    Current|     CA|2019-01-01|    null|          7143141|        Yes|       221680.0|\n",
      "|     92929|    Savings|     US|2019-01-01|221680.0|          6554191|         No|       221680.0|\n",
      "|    625741|    Savings|     CA|2019-01-01|560797.0|          2731430|       null|       560797.0|\n",
      "|    711485|    Current|     CA|2019-01-01| 29739.0|          5973700|         No|        29739.0|\n",
      "|    882704|    Current|     CA|2019-01-02| 85406.0|          7143141|        Yes|        85406.0|\n",
      "|     92929|    Savings|     US|2019-01-02|695791.0|          6554191|         No|       695791.0|\n",
      "|    625741|    Savings|     CA|2019-01-02|740800.0|          2731430|       null|       740800.0|\n",
      "|    711485|    Current|     CA|2019-01-02| 22494.0|          5973700|         No|        22494.0|\n",
      "|    882704|    Current|     CA|2019-01-03|    null|          7143141|        Yes|        35378.0|\n",
      "|     92929|    Savings|     US|2019-01-03|    null|          6554191|         No|        35378.0|\n",
      "|    625741|    Savings|     CA|2019-01-03|    null|          2731430|       null|        35378.0|\n",
      "|    711485|    Current|     CA|2019-01-03|    null|          5973700|         No|        35378.0|\n",
      "|    882704|    Current|     CA|2019-01-04| 35378.0|          7143141|        Yes|        35378.0|\n",
      "|     92929|    Savings|     US|2019-01-04|669368.0|          6554191|         No|       669368.0|\n",
      "|    625741|    Savings|     CA|2019-01-04|239061.0|          2731430|       null|       239061.0|\n",
      "|    711485|    Current|     CA|2019-01-04| 90029.0|          5973700|         No|        90029.0|\n",
      "|    882704|    Current|     CA|2019-01-05| 64242.0|          7143141|        Yes|        64242.0|\n",
      "|     92929|    Savings|     US|2019-01-05|348640.0|          6554191|         No|       348640.0|\n",
      "|    625741|    Savings|     CA|2019-01-05|843905.0|          2731430|       null|       843905.0|\n",
      "|    711485|    Current|     CA|2019-01-05| 47117.0|          5973700|         No|        47117.0|\n",
      "+----------+-----------+-------+----------+--------+-----------------+-----------+---------------+\n",
      "\n"
     ]
    }
   ],
   "source": [
    "simple_imputer.strategy = \"bfill\"\n",
    "\n",
    "simple_imputer.impute(df_ts).show()"
   ]
  },
  {
   "cell_type": "markdown",
   "metadata": {},
   "source": [
    "Don't need to remove the `order_by_cols` parameter, since `mode` does not use it."
   ]
  },
  {
   "cell_type": "code",
   "execution_count": 11,
   "metadata": {},
   "outputs": [
    {
     "name": "stdout",
     "output_type": "stream",
     "text": [
      "+----------+-----------+-------+----------+--------+-----------------+-----------+------------------+\n",
      "|CustomerId|AccountType|Country|      Date|Balances|MaxAccountBalance|EliteMember|EliteMemberImputed|\n",
      "+----------+-----------+-------+----------+--------+-----------------+-----------+------------------+\n",
      "|    882704|    Current|     CA|2019-01-01|    null|          7143141|        Yes|               Yes|\n",
      "|     92929|    Savings|     US|2019-01-01|221680.0|          6554191|         No|                No|\n",
      "|    625741|    Savings|     CA|2019-01-01|560797.0|          2731430|       null|                No|\n",
      "|    711485|    Current|     CA|2019-01-01| 29739.0|          5973700|         No|                No|\n",
      "|    882704|    Current|     CA|2019-01-02| 85406.0|          7143141|        Yes|               Yes|\n",
      "|     92929|    Savings|     US|2019-01-02|695791.0|          6554191|         No|                No|\n",
      "|    625741|    Savings|     CA|2019-01-02|740800.0|          2731430|       null|                No|\n",
      "|    711485|    Current|     CA|2019-01-02| 22494.0|          5973700|         No|                No|\n",
      "|    882704|    Current|     CA|2019-01-03|    null|          7143141|        Yes|               Yes|\n",
      "|     92929|    Savings|     US|2019-01-03|    null|          6554191|         No|                No|\n",
      "|    625741|    Savings|     CA|2019-01-03|    null|          2731430|       null|                No|\n",
      "|    711485|    Current|     CA|2019-01-03|    null|          5973700|         No|                No|\n",
      "|    882704|    Current|     CA|2019-01-04| 35378.0|          7143141|        Yes|               Yes|\n",
      "|     92929|    Savings|     US|2019-01-04|669368.0|          6554191|         No|                No|\n",
      "|    625741|    Savings|     CA|2019-01-04|239061.0|          2731430|       null|                No|\n",
      "|    711485|    Current|     CA|2019-01-04| 90029.0|          5973700|         No|                No|\n",
      "|    882704|    Current|     CA|2019-01-05| 64242.0|          7143141|        Yes|               Yes|\n",
      "|     92929|    Savings|     US|2019-01-05|348640.0|          6554191|         No|                No|\n",
      "|    625741|    Savings|     CA|2019-01-05|843905.0|          2731430|       null|                No|\n",
      "|    711485|    Current|     CA|2019-01-05| 47117.0|          5973700|         No|                No|\n",
      "+----------+-----------+-------+----------+--------+-----------------+-----------+------------------+\n",
      "\n"
     ]
    }
   ],
   "source": [
    "simple_imputer.strategy = \"mode\"\n",
    "simple_imputer.input_cols = [\"EliteMember\"]\n",
    "simple_imputer.output_cols = [\"EliteMemberImputed\"]\n",
    "\n",
    "simple_imputer.impute(df_ts).show()"
   ]
  },
  {
   "cell_type": "markdown",
   "metadata": {},
   "source": [
    "#### Limitations\n",
    "\n",
    "`SimpleImputer` is great for quick applications of basic imputation techniques.\n",
    "\n",
    "However, it fails to perform well when there is a need for more nuanced domain knowledge to be applied."
   ]
  },
  {
   "cell_type": "markdown",
   "metadata": {},
   "source": [
    "### Mean Imputation"
   ]
  },
  {
   "cell_type": "code",
   "execution_count": 12,
   "metadata": {},
   "outputs": [
    {
     "name": "stdout",
     "output_type": "stream",
     "text": [
      "+----------+-----------+-------+----------+--------+-----------------+-----------+\n",
      "|CustomerId|AccountType|Country|      Date|Balances|MaxAccountBalance|EliteMember|\n",
      "+----------+-----------+-------+----------+--------+-----------------+-----------+\n",
      "|    882704|    Current|     CA|2019-01-01|    null|          7143141|        Yes|\n",
      "|     92929|    Savings|     US|2019-01-01|221680.0|          6554191|         No|\n",
      "|    625741|    Savings|     CA|2019-01-01|560797.0|          2731430|       null|\n",
      "|    711485|    Current|     CA|2019-01-01| 29739.0|          5973700|         No|\n",
      "|    882704|    Current|     CA|2019-01-02| 85406.0|          7143141|        Yes|\n",
      "|     92929|    Savings|     US|2019-01-02|695791.0|          6554191|         No|\n",
      "|    625741|    Savings|     CA|2019-01-02|740800.0|          2731430|       null|\n",
      "|    711485|    Current|     CA|2019-01-02| 22494.0|          5973700|         No|\n",
      "|    882704|    Current|     CA|2019-01-03|    null|          7143141|        Yes|\n",
      "|     92929|    Savings|     US|2019-01-03|    null|          6554191|         No|\n",
      "|    625741|    Savings|     CA|2019-01-03|    null|          2731430|       null|\n",
      "|    711485|    Current|     CA|2019-01-03|    null|          5973700|         No|\n",
      "|    882704|    Current|     CA|2019-01-04| 35378.0|          7143141|        Yes|\n",
      "|     92929|    Savings|     US|2019-01-04|669368.0|          6554191|         No|\n",
      "|    625741|    Savings|     CA|2019-01-04|239061.0|          2731430|       null|\n",
      "|    711485|    Current|     CA|2019-01-04| 90029.0|          5973700|         No|\n",
      "|    882704|    Current|     CA|2019-01-05| 64242.0|          7143141|        Yes|\n",
      "|     92929|    Savings|     US|2019-01-05|348640.0|          6554191|         No|\n",
      "|    625741|    Savings|     CA|2019-01-05|843905.0|          2731430|       null|\n",
      "|    711485|    Current|     CA|2019-01-05| 47117.0|          5973700|         No|\n",
      "+----------+-----------+-------+----------+--------+-----------------+-----------+\n",
      "\n"
     ]
    }
   ],
   "source": [
    "df_ts.show()"
   ]
  },
  {
   "cell_type": "markdown",
   "metadata": {},
   "source": [
    "#### Without grouping"
   ]
  },
  {
   "cell_type": "code",
   "execution_count": 13,
   "metadata": {},
   "outputs": [
    {
     "name": "stdout",
     "output_type": "stream",
     "text": [
      "+----------+-----------+-------+----------+--------+-----------------+-----------+--------------+\n",
      "|CustomerId|AccountType|Country|      Date|Balances|MaxAccountBalance|EliteMember|BalanceImputed|\n",
      "+----------+-----------+-------+----------+--------+-----------------+-----------+--------------+\n",
      "|    882704|    Current|     CA|2019-01-01|    null|          7143141|        Yes|     312963.12|\n",
      "|     92929|    Savings|     US|2019-01-01|221680.0|          6554191|         No|      221680.0|\n",
      "|    625741|    Savings|     CA|2019-01-01|560797.0|          2731430|       null|      560797.0|\n",
      "|    711485|    Current|     CA|2019-01-01| 29739.0|          5973700|         No|       29739.0|\n",
      "|    882704|    Current|     CA|2019-01-02| 85406.0|          7143141|        Yes|       85406.0|\n",
      "|     92929|    Savings|     US|2019-01-02|695791.0|          6554191|         No|      695791.0|\n",
      "|    625741|    Savings|     CA|2019-01-02|740800.0|          2731430|       null|      740800.0|\n",
      "|    711485|    Current|     CA|2019-01-02| 22494.0|          5973700|         No|       22494.0|\n",
      "|    882704|    Current|     CA|2019-01-03|    null|          7143141|        Yes|     312963.12|\n",
      "|     92929|    Savings|     US|2019-01-03|    null|          6554191|         No|     312963.12|\n",
      "|    625741|    Savings|     CA|2019-01-03|    null|          2731430|       null|     312963.12|\n",
      "|    711485|    Current|     CA|2019-01-03|    null|          5973700|         No|     312963.12|\n",
      "|    882704|    Current|     CA|2019-01-04| 35378.0|          7143141|        Yes|       35378.0|\n",
      "|     92929|    Savings|     US|2019-01-04|669368.0|          6554191|         No|      669368.0|\n",
      "|    625741|    Savings|     CA|2019-01-04|239061.0|          2731430|       null|      239061.0|\n",
      "|    711485|    Current|     CA|2019-01-04| 90029.0|          5973700|         No|       90029.0|\n",
      "|    882704|    Current|     CA|2019-01-05| 64242.0|          7143141|        Yes|       64242.0|\n",
      "|     92929|    Savings|     US|2019-01-05|348640.0|          6554191|         No|      348640.0|\n",
      "|    625741|    Savings|     CA|2019-01-05|843905.0|          2731430|       null|      843905.0|\n",
      "|    711485|    Current|     CA|2019-01-05| 47117.0|          5973700|         No|       47117.0|\n",
      "+----------+-----------+-------+----------+--------+-----------------+-----------+--------------+\n",
      "\n"
     ]
    }
   ],
   "source": [
    "mean_imputer = MeanImputer(input_cols=[\"Balances\"], output_cols=[\"BalanceImputed\"])\n",
    "\n",
    "mean_imputer.impute(df_ts).show()"
   ]
  },
  {
   "cell_type": "markdown",
   "metadata": {},
   "source": [
    "#### With grouping\n",
    "\n",
    "Balances are imputed by type of account"
   ]
  },
  {
   "cell_type": "code",
   "execution_count": 14,
   "metadata": {},
   "outputs": [
    {
     "name": "stdout",
     "output_type": "stream",
     "text": [
      "+-----------+----------+-------+----------+--------+-----------------+-----------+-----------------+\n",
      "|AccountType|CustomerId|Country|      Date|Balances|MaxAccountBalance|EliteMember|   BalanceImputed|\n",
      "+-----------+----------+-------+----------+--------+-----------------+-----------+-----------------+\n",
      "|    Savings|     92929|     US|2019-01-01|221680.0|          6554191|         No|         221680.0|\n",
      "|    Savings|    625741|     CA|2019-01-01|560797.0|          2731430|       null|         560797.0|\n",
      "|    Savings|     92929|     US|2019-01-02|695791.0|          6554191|         No|         695791.0|\n",
      "|    Savings|    625741|     CA|2019-01-02|740800.0|          2731430|       null|         740800.0|\n",
      "|    Savings|     92929|     US|2019-01-03|    null|          6554191|         No|        540005.25|\n",
      "|    Savings|    625741|     CA|2019-01-03|    null|          2731430|       null|        540005.25|\n",
      "|    Savings|     92929|     US|2019-01-04|669368.0|          6554191|         No|         669368.0|\n",
      "|    Savings|    625741|     CA|2019-01-04|239061.0|          2731430|       null|         239061.0|\n",
      "|    Savings|     92929|     US|2019-01-05|348640.0|          6554191|         No|         348640.0|\n",
      "|    Savings|    625741|     CA|2019-01-05|843905.0|          2731430|       null|         843905.0|\n",
      "|    Current|    882704|     CA|2019-01-01|    null|          7143141|        Yes|53486.42857142857|\n",
      "|    Current|    711485|     CA|2019-01-01| 29739.0|          5973700|         No|          29739.0|\n",
      "|    Current|    882704|     CA|2019-01-02| 85406.0|          7143141|        Yes|          85406.0|\n",
      "|    Current|    711485|     CA|2019-01-02| 22494.0|          5973700|         No|          22494.0|\n",
      "|    Current|    882704|     CA|2019-01-03|    null|          7143141|        Yes|53486.42857142857|\n",
      "|    Current|    711485|     CA|2019-01-03|    null|          5973700|         No|53486.42857142857|\n",
      "|    Current|    882704|     CA|2019-01-04| 35378.0|          7143141|        Yes|          35378.0|\n",
      "|    Current|    711485|     CA|2019-01-04| 90029.0|          5973700|         No|          90029.0|\n",
      "|    Current|    882704|     CA|2019-01-05| 64242.0|          7143141|        Yes|          64242.0|\n",
      "|    Current|    711485|     CA|2019-01-05| 47117.0|          5973700|         No|          47117.0|\n",
      "+-----------+----------+-------+----------+--------+-----------------+-----------+-----------------+\n",
      "\n"
     ]
    }
   ],
   "source": [
    "mean_imputer.list_group_by_cols = [[\"AccountType\"]]\n",
    "\n",
    "mean_imputer.impute(df_ts).show()"
   ]
  },
  {
   "cell_type": "markdown",
   "metadata": {},
   "source": [
    "### Median Imputation"
   ]
  },
  {
   "cell_type": "code",
   "execution_count": 15,
   "metadata": {},
   "outputs": [],
   "source": [
    "data_median = [\n",
    "    (\"Cashier\", 30000.0, 1250.0),\n",
    "    (\"Cashier\", None, 750.0),\n",
    "    (\"Cashier\", 37000.0, None),\n",
    "    (\"Cashier\", 75000.0, 5000.0),\n",
    "    (\"Data Scientist\", 75000.0, None),\n",
    "    (\"Data Scientist\", 95000.0, 10000.0),\n",
    "    (\"Data Scientist\", None, 6500.0),\n",
    "    (\"Data Scientist\", 205000.0, 35000.0)\n",
    "]\n",
    "\n",
    "df_median = spark.createDataFrame(data_median, [\"Occupation\", \"Salary\", \"Bonus\"])"
   ]
  },
  {
   "cell_type": "code",
   "execution_count": 16,
   "metadata": {},
   "outputs": [
    {
     "name": "stdout",
     "output_type": "stream",
     "text": [
      "+--------------+--------+-------+\n",
      "|    Occupation|  Salary|  Bonus|\n",
      "+--------------+--------+-------+\n",
      "|       Cashier| 30000.0| 1250.0|\n",
      "|       Cashier|    null|  750.0|\n",
      "|       Cashier| 37000.0|   null|\n",
      "|       Cashier| 75000.0| 5000.0|\n",
      "|Data Scientist| 75000.0|   null|\n",
      "|Data Scientist| 95000.0|10000.0|\n",
      "|Data Scientist|    null| 6500.0|\n",
      "|Data Scientist|205000.0|35000.0|\n",
      "+--------------+--------+-------+\n",
      "\n"
     ]
    }
   ],
   "source": [
    "df_median.show()"
   ]
  },
  {
   "cell_type": "markdown",
   "metadata": {},
   "source": [
    "#### Without grouping"
   ]
  },
  {
   "cell_type": "code",
   "execution_count": 17,
   "metadata": {},
   "outputs": [
    {
     "name": "stdout",
     "output_type": "stream",
     "text": [
      "+--------------+--------+-------+\n",
      "|    Occupation|  Salary|  Bonus|\n",
      "+--------------+--------+-------+\n",
      "|       Cashier| 30000.0| 1250.0|\n",
      "|       Cashier|    null|  750.0|\n",
      "|       Cashier| 37000.0|   null|\n",
      "|       Cashier| 75000.0| 5000.0|\n",
      "|Data Scientist| 75000.0|   null|\n",
      "|Data Scientist| 95000.0|10000.0|\n",
      "|Data Scientist|    null| 6500.0|\n",
      "|Data Scientist|205000.0|35000.0|\n",
      "+--------------+--------+-------+\n",
      "\n",
      "+--------------+--------+-------+\n",
      "|    Occupation|  Salary|  Bonus|\n",
      "+--------------+--------+-------+\n",
      "|       Cashier| 30000.0| 1250.0|\n",
      "|       Cashier| 75000.0|  750.0|\n",
      "|       Cashier| 37000.0| 5000.0|\n",
      "|       Cashier| 75000.0| 5000.0|\n",
      "|Data Scientist| 75000.0| 5000.0|\n",
      "|Data Scientist| 95000.0|10000.0|\n",
      "|Data Scientist| 75000.0| 6500.0|\n",
      "|Data Scientist|205000.0|35000.0|\n",
      "+--------------+--------+-------+\n",
      "\n"
     ]
    }
   ],
   "source": [
    "median_imputer = MedianImputer(input_cols=[\"Salary\", \"Bonus\"])\n",
    "\n",
    "df_median.show()\n",
    "\n",
    "median_imputer.impute(df_median).show()"
   ]
  },
  {
   "cell_type": "markdown",
   "metadata": {},
   "source": [
    "#### With grouping"
   ]
  },
  {
   "cell_type": "code",
   "execution_count": 18,
   "metadata": {},
   "outputs": [
    {
     "name": "stdout",
     "output_type": "stream",
     "text": [
      "+--------------+--------+-------+\n",
      "|    Occupation|  Salary|  Bonus|\n",
      "+--------------+--------+-------+\n",
      "|       Cashier| 30000.0| 1250.0|\n",
      "|       Cashier|    null|  750.0|\n",
      "|       Cashier| 37000.0|   null|\n",
      "|       Cashier| 75000.0| 5000.0|\n",
      "|Data Scientist| 75000.0|   null|\n",
      "|Data Scientist| 95000.0|10000.0|\n",
      "|Data Scientist|    null| 6500.0|\n",
      "|Data Scientist|205000.0|35000.0|\n",
      "+--------------+--------+-------+\n",
      "\n",
      "+--------------+--------+-------+\n",
      "|    Occupation|  Salary|  Bonus|\n",
      "+--------------+--------+-------+\n",
      "|       Cashier| 30000.0| 1250.0|\n",
      "|       Cashier| 37000.0|  750.0|\n",
      "|       Cashier| 37000.0| 1250.0|\n",
      "|       Cashier| 75000.0| 5000.0|\n",
      "|Data Scientist| 75000.0|10000.0|\n",
      "|Data Scientist| 95000.0|10000.0|\n",
      "|Data Scientist| 95000.0| 6500.0|\n",
      "|Data Scientist|205000.0|35000.0|\n",
      "+--------------+--------+-------+\n",
      "\n"
     ]
    }
   ],
   "source": [
    "median_imputer.list_group_by_cols = [[\"Occupation\"], [\"Occupation\"]]\n",
    "\n",
    "df_median.show()\n",
    "\n",
    "median_imputer.impute(df_median).show()"
   ]
  },
  {
   "cell_type": "markdown",
   "metadata": {},
   "source": [
    "### Forward / Backward Fill Imputation"
   ]
  },
  {
   "cell_type": "code",
   "execution_count": 19,
   "metadata": {},
   "outputs": [
    {
     "name": "stdout",
     "output_type": "stream",
     "text": [
      "+----------+-----------+-------+----------+--------+-----------------+-----------+\n",
      "|CustomerId|AccountType|Country|      Date|Balances|MaxAccountBalance|EliteMember|\n",
      "+----------+-----------+-------+----------+--------+-----------------+-----------+\n",
      "|    882704|    Current|     CA|2019-01-01|    null|          7143141|        Yes|\n",
      "|     92929|    Savings|     US|2019-01-01|221680.0|          6554191|         No|\n",
      "|    625741|    Savings|     CA|2019-01-01|560797.0|          2731430|       null|\n",
      "|    711485|    Current|     CA|2019-01-01| 29739.0|          5973700|         No|\n",
      "|    882704|    Current|     CA|2019-01-02| 85406.0|          7143141|        Yes|\n",
      "|     92929|    Savings|     US|2019-01-02|695791.0|          6554191|         No|\n",
      "|    625741|    Savings|     CA|2019-01-02|740800.0|          2731430|       null|\n",
      "|    711485|    Current|     CA|2019-01-02| 22494.0|          5973700|         No|\n",
      "|    882704|    Current|     CA|2019-01-03|    null|          7143141|        Yes|\n",
      "|     92929|    Savings|     US|2019-01-03|    null|          6554191|         No|\n",
      "|    625741|    Savings|     CA|2019-01-03|    null|          2731430|       null|\n",
      "|    711485|    Current|     CA|2019-01-03|    null|          5973700|         No|\n",
      "|    882704|    Current|     CA|2019-01-04| 35378.0|          7143141|        Yes|\n",
      "|     92929|    Savings|     US|2019-01-04|669368.0|          6554191|         No|\n",
      "|    625741|    Savings|     CA|2019-01-04|239061.0|          2731430|       null|\n",
      "|    711485|    Current|     CA|2019-01-04| 90029.0|          5973700|         No|\n",
      "|    882704|    Current|     CA|2019-01-05| 64242.0|          7143141|        Yes|\n",
      "|     92929|    Savings|     US|2019-01-05|348640.0|          6554191|         No|\n",
      "|    625741|    Savings|     CA|2019-01-05|843905.0|          2731430|       null|\n",
      "|    711485|    Current|     CA|2019-01-05| 47117.0|          5973700|         No|\n",
      "+----------+-----------+-------+----------+--------+-----------------+-----------+\n",
      "\n"
     ]
    }
   ],
   "source": [
    "df_ts.show()"
   ]
  },
  {
   "cell_type": "markdown",
   "metadata": {},
   "source": [
    "#### Very powerful when order by column has repeated entries "
   ]
  },
  {
   "cell_type": "code",
   "execution_count": 20,
   "metadata": {},
   "outputs": [
    {
     "name": "stdout",
     "output_type": "stream",
     "text": [
      "+----------+-----------+-------+----------+--------+-----------------+-----------+---------------+\n",
      "|CustomerId|AccountType|Country|      Date|Balances|MaxAccountBalance|EliteMember|BalancesImputed|\n",
      "+----------+-----------+-------+----------+--------+-----------------+-----------+---------------+\n",
      "|     92929|    Savings|     US|2019-01-01|221680.0|          6554191|         No|       221680.0|\n",
      "|    625741|    Savings|     CA|2019-01-01|560797.0|          2731430|       null|       560797.0|\n",
      "|    711485|    Current|     CA|2019-01-01| 29739.0|          5973700|         No|        29739.0|\n",
      "|    882704|    Current|     CA|2019-01-01|    null|          7143141|        Yes|        85406.0|\n",
      "|     92929|    Savings|     US|2019-01-02|695791.0|          6554191|         No|       695791.0|\n",
      "|    625741|    Savings|     CA|2019-01-02|740800.0|          2731430|       null|       740800.0|\n",
      "|    711485|    Current|     CA|2019-01-02| 22494.0|          5973700|         No|        22494.0|\n",
      "|    882704|    Current|     CA|2019-01-02| 85406.0|          7143141|        Yes|        85406.0|\n",
      "|     92929|    Savings|     US|2019-01-03|    null|          6554191|         No|       669368.0|\n",
      "|    625741|    Savings|     CA|2019-01-03|    null|          2731430|       null|       239061.0|\n",
      "|    711485|    Current|     CA|2019-01-03|    null|          5973700|         No|        90029.0|\n",
      "|    882704|    Current|     CA|2019-01-03|    null|          7143141|        Yes|        35378.0|\n",
      "|     92929|    Savings|     US|2019-01-04|669368.0|          6554191|         No|       669368.0|\n",
      "|    625741|    Savings|     CA|2019-01-04|239061.0|          2731430|       null|       239061.0|\n",
      "|    711485|    Current|     CA|2019-01-04| 90029.0|          5973700|         No|        90029.0|\n",
      "|    882704|    Current|     CA|2019-01-04| 35378.0|          7143141|        Yes|        35378.0|\n",
      "|     92929|    Savings|     US|2019-01-05|348640.0|          6554191|         No|       348640.0|\n",
      "|    625741|    Savings|     CA|2019-01-05|843905.0|          2731430|       null|       843905.0|\n",
      "|    711485|    Current|     CA|2019-01-05| 47117.0|          5973700|         No|        47117.0|\n",
      "|    882704|    Current|     CA|2019-01-05| 64242.0|          7143141|        Yes|        64242.0|\n",
      "+----------+-----------+-------+----------+--------+-----------------+-----------+---------------+\n",
      "\n"
     ]
    }
   ],
   "source": [
    "bfill_imputer = BackwardFillImputer(input_cols=[\"Balances\"],\n",
    "                                    output_cols=[\"BalancesImputed\"],\n",
    "                                    order_by_cols=[\"Date\"],\n",
    "                                    list_partition_by_cols=[[\"CustomerId\"]])\n",
    "\n",
    "bfill_imputer \\\n",
    "    .impute(df_ts) \\\n",
    "    .orderBy(\"Date\", \"CustomerId\") \\\n",
    "    .show()"
   ]
  },
  {
   "cell_type": "markdown",
   "metadata": {},
   "source": [
    "### Linear Regression Imputation"
   ]
  },
  {
   "cell_type": "code",
   "execution_count": 21,
   "metadata": {},
   "outputs": [],
   "source": [
    "from pyspark.ml.feature import VectorAssembler\n",
    "\n",
    "lr_data = [\n",
    "    (1, 651, 23),\n",
    "    (2, 762, 26),\n",
    "    (3, 856, 30),\n",
    "    (4, 1063, None),\n",
    "    (5, 1190, 43),\n",
    "    (6, 1298, 48),\n",
    "    (7, 1421, None),\n",
    "    (8, 1440, 57),\n",
    "    (9, 1518, 58)\n",
    "]\n",
    "\n",
    "df_lr = spark.createDataFrame(lr_data, [\"Year\", \"Sales (millions USD)\", \"Advertising (millions USD)\"])"
   ]
  },
  {
   "cell_type": "code",
   "execution_count": 22,
   "metadata": {},
   "outputs": [
    {
     "name": "stdout",
     "output_type": "stream",
     "text": [
      "+----+--------------------+--------------------------+\n",
      "|Year|Sales (millions USD)|Advertising (millions USD)|\n",
      "+----+--------------------+--------------------------+\n",
      "|   1|                 651|                        23|\n",
      "|   2|                 762|                        26|\n",
      "|   3|                 856|                        30|\n",
      "|   4|                1063|                      null|\n",
      "|   5|                1190|                        43|\n",
      "|   6|                1298|                        48|\n",
      "|   7|                1421|                      null|\n",
      "|   8|                1440|                        57|\n",
      "|   9|                1518|                        58|\n",
      "+----+--------------------+--------------------------+\n",
      "\n"
     ]
    }
   ],
   "source": [
    "df_lr.show()"
   ]
  },
  {
   "cell_type": "code",
   "execution_count": 23,
   "metadata": {},
   "outputs": [
    {
     "name": "stdout",
     "output_type": "stream",
     "text": [
      "+----+--------------------+--------------------------+------------+\n",
      "|Year|Sales (millions USD)|Advertising (millions USD)|    features|\n",
      "+----+--------------------+--------------------------+------------+\n",
      "|   1|                 651|                        23| [1.0,651.0]|\n",
      "|   2|                 762|                        26| [2.0,762.0]|\n",
      "|   3|                 856|                        30| [3.0,856.0]|\n",
      "|   4|                1063|                      null|[4.0,1063.0]|\n",
      "|   5|                1190|                        43|[5.0,1190.0]|\n",
      "|   6|                1298|                        48|[6.0,1298.0]|\n",
      "|   7|                1421|                      null|[7.0,1421.0]|\n",
      "|   8|                1440|                        57|[8.0,1440.0]|\n",
      "|   9|                1518|                        58|[9.0,1518.0]|\n",
      "+----+--------------------+--------------------------+------------+\n",
      "\n"
     ]
    }
   ],
   "source": [
    "assembler = VectorAssembler(inputCols=[\"Year\", \"Sales (millions USD)\"], outputCol=\"features\")\n",
    "df_lr = assembler.transform(df_lr)\n",
    "\n",
    "df_lr.show()"
   ]
  },
  {
   "cell_type": "code",
   "execution_count": 24,
   "metadata": {},
   "outputs": [
    {
     "name": "stdout",
     "output_type": "stream",
     "text": [
      "+----+--------------------+--------------------------+------------+\n",
      "|Year|Sales (millions USD)|Advertising (millions USD)|    features|\n",
      "+----+--------------------+--------------------------+------------+\n",
      "|   1|                 651|                      23.0| [1.0,651.0]|\n",
      "|   2|                 762|                      26.0| [2.0,762.0]|\n",
      "|   3|                 856|                      30.0| [3.0,856.0]|\n",
      "|   4|                1063|                   36.8376|[4.0,1063.0]|\n",
      "|   5|                1190|                      43.0|[5.0,1190.0]|\n",
      "|   6|                1298|                      48.0|[6.0,1298.0]|\n",
      "|   7|                1421|                 51.715458|[7.0,1421.0]|\n",
      "|   8|                1440|                      57.0|[8.0,1440.0]|\n",
      "|   9|                1518|                      58.0|[9.0,1518.0]|\n",
      "+----+--------------------+--------------------------+------------+\n",
      "\n"
     ]
    }
   ],
   "source": [
    "lr_imputer = LinearRegressionImputer(features_col=\"features\",\n",
    "                                     col_to_impute=\"Advertising (millions USD)\")\n",
    "\n",
    "lr_imputer.impute(df_lr).show()"
   ]
  }
 ],
 "metadata": {
  "kernelspec": {
   "display_name": "Python 3",
   "language": "python",
   "name": "python3"
  },
  "language_info": {
   "codemirror_mode": {
    "name": "ipython",
    "version": 3
   },
   "file_extension": ".py",
   "mimetype": "text/x-python",
   "name": "python",
   "nbconvert_exporter": "python",
   "pygments_lexer": "ipython3",
   "version": "3.6.10"
  }
 },
 "nbformat": 4,
 "nbformat_minor": 4
}
