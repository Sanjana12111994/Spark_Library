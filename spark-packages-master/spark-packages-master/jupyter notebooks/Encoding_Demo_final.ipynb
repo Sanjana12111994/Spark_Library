{
 "cells": [
  {
   "cell_type": "markdown",
   "metadata": {},
   "source": [
    "# Building Reusable Spark Library for Feature Encoding"
   ]
  },
  {
   "cell_type": "code",
   "execution_count": 18,
   "metadata": {},
   "outputs": [],
   "source": [
    "import sys, os\n",
    "from pathlib import Path\n",
    "from pyspark.sql.types import StructType\n",
    "from pyspark.sql.types import *\n",
    "from pyspark.sql import SparkSession\n",
    "from pyspark.sql import SQLContext\n",
    "from pyspark.sql import DataFrame\n",
    "from pyspark.sql import SparkSession, functions as F\n",
    "from pathlib import Path\n",
    "import pandas as pd\n"
   ]
  },
  {
   "cell_type": "markdown",
   "metadata": {},
   "source": [
    "# Setting up the Path Variable and Autoreloader"
   ]
  },
  {
   "cell_type": "code",
   "execution_count": 19,
   "metadata": {
    "tags": []
   },
   "outputs": [
    {
     "output_type": "stream",
     "name": "stdout",
     "text": "The autoreload extension is already loaded. To reload it, use:\n  %reload_ext autoreload\n"
    }
   ],
   "source": [
    "path = \"D:\\\\SANJANA\\\\HSBC Internship\\\\spark-packages\\\\src\\\\main\\\\FeatureEncoder\"\n",
    "os.chdir(path)\n",
    "%load_ext autoreload\n",
    "%autoreload 2"
   ]
  },
  {
   "cell_type": "markdown",
   "metadata": {},
   "source": [
    "# Setting up the Spark Session"
   ]
  },
  {
   "cell_type": "code",
   "execution_count": 20,
   "metadata": {},
   "outputs": [],
   "source": [
    "spark = SparkSession \\\n",
    "    .builder \\\n",
    "    .appName(\"Python Spark SQL basic example\") \\\n",
    "    .config(\"spark.some.config.option\", \"some-value\") \\\n",
    "    .getOrCreate()\n",
    "sc = spark.sparkContext.getOrCreate()\n",
    "sqlContext = SQLContext(sc)"
   ]
  },
  {
   "cell_type": "markdown",
   "metadata": {},
   "source": [
    "# Importing the Library and  Reading the data"
   ]
  },
  {
   "cell_type": "code",
   "execution_count": 21,
   "metadata": {},
   "outputs": [],
   "source": [
    "from FeatureEncoder import FeatureEncoder\n",
    "dat = pd.read_csv(\"D:\\SANJANA\\HSBC Internship\\spark-packages\\datasets\\dummy data1.csv\")\n",
    "spark_dat = spark.createDataFrame(dat)\n",
    "spark_dat = spark_dat.withColumn(\"Date\",F.to_date(F.col(\"Date\"),\"yyyy-mm-dd\"))\n"
   ]
  },
  {
   "cell_type": "markdown",
   "metadata": {},
   "source": [
    "# Help functionality"
   ]
  },
  {
   "cell_type": "code",
   "execution_count": 22,
   "metadata": {
    "tags": []
   },
   "outputs": [
    {
     "output_type": "stream",
     "name": "stdout",
     "text": "Help on class FeatureEncoder in module FeatureEncoder:\n\nclass FeatureEncoder(builtins.object)\n |  FeatureEncoder(strategy: str = 'SR', cat_col: str = None, label_col: str = None, positive_class: str = '1', negative_class: str = '0')\n |  \n |  A general class for quick usage of Feature Encoding techniques\n |  General structure of code inspired by:\n |      https://github.com/apache/spark/blob/master/python/pyspark/ml/feature.py.\n |  \n |  Methods defined here:\n |  \n |  __init__(self, strategy: str = 'SR', cat_col: str = None, label_col: str = None, positive_class: str = '1', negative_class: str = '0')\n |      :param strategy         :  The selected strategy. Currently supported strategies are Supervised Ration Encoding (SR) \n |                                 and Weight of Evidence (WOE).\n |      :param cat_col          :  The String that denotes the categorical column name.\n |      :param label_col        :  The String that denotes the label/target column name.\n |      :param positive_class   :  The String value in the label_col to denote positive class label. \n |                                 default value = '1'\n |      :param negative_class   :  The String value in the label_col to denote negative class label.\n |                                 default value = '0'\n |  \n |  encode(self, df: pyspark.sql.dataframe.DataFrame) -> pyspark.sql.dataframe.DataFrame\n |  \n |  get_cat_col(self) -> str\n |  \n |  get_label_col(self) -> str\n |  \n |  get_negative_class(self) -> str\n |  \n |  get_positive_class(self) -> str\n |  \n |  get_strategy(self) -> str\n |  \n |  set_cat_col(self, new_cat_col: str) -> None\n |  \n |  set_label_col(self, new_label_col: str) -> None\n |  \n |  set_negative_class(self, new_negative_class: str) -> None\n |  \n |  set_positive_class(self, new_positive_class: str) -> None\n |  \n |  set_strategy(self, new_strategy: str) -> None\n |  \n |  ----------------------------------------------------------------------\n |  Data descriptors defined here:\n |  \n |  __dict__\n |      dictionary for instance variables (if defined)\n |  \n |  __weakref__\n |      list of weak references to the object (if defined)\n |  \n |  ----------------------------------------------------------------------\n |  Data and other attributes defined here:\n |  \n |  methods = ['SR', 'WOE']\n\n"
    }
   ],
   "source": [
    "help(FeatureEncoder)"
   ]
  },
  {
   "cell_type": "markdown",
   "metadata": {},
   "source": [
    "# Feature Encoding using Supervised Ratio"
   ]
  },
  {
   "cell_type": "code",
   "execution_count": 23,
   "metadata": {
    "tags": []
   },
   "outputs": [
    {
     "output_type": "stream",
     "name": "stdout",
     "text": "Positive Class =  Yes <class 'str'>\nNegative Class =  No <class 'str'>\n+-----------+----------+-------+----------+--------+-----------------+-----------+-----+-------------------+\n|AccountType|CustomerId|Country|      Date|Balances|MaxAccountBalance|EliteMember|Label|AccountType_encoded|\n+-----------+----------+-------+----------+--------+-----------------+-----------+-----+-------------------+\n|    Savings|     92929|     CA|2019-01-01|221680.0|          6554191|         No|    0|                0.5|\n|    Savings|    625741|     CA|2019-01-01|560797.0|          2731430|         No|    0|                0.5|\n|    Savings|     92929|     CA|2019-01-02|695791.0|          6554191|         No|    0|                0.5|\n|    Savings|    625741|     CA|2019-01-02|740800.0|          2731430|         No|    0|                0.5|\n|    Savings|     92929|     CA|2019-01-03|     NaN|          6554191|         No|    0|                0.5|\n|    Savings|    625741|     CA|2019-01-03|     NaN|          2731430|         No|    0|                0.5|\n|    Savings|     92929|     CA|2019-01-04|669368.0|          6554191|         No|    0|                0.5|\n|    Savings|    625741|     CA|2019-01-04|239061.0|          2731430|         No|    0|                0.5|\n|    Savings|     92929|     CA|2019-01-05|348640.0|          6554191|         No|    0|                0.5|\n|    Savings|    625741|     CA|2019-01-05|843905.0|          2731430|         No|    0|                0.5|\n|    Current|    882704|     CA|2019-01-01| 15942.0|          7143141|        Yes|    1|                0.5|\n|    Current|    711485|     CA|2019-01-01| 29739.0|          5973700|         No|    0|                0.5|\n|    Current|    882704|     CA|2019-01-02| 85406.0|          7143141|        Yes|    1|                0.5|\n|    Current|    711485|     CA|2019-01-02| 22494.0|          5973700|         No|    0|                0.5|\n|    Current|    882704|     CA|2019-01-03|     NaN|          7143141|        Yes|    1|                0.5|\n|    Current|    711485|     CA|2019-01-03|     NaN|          5973700|         No|    0|                0.5|\n|    Current|    882704|     CA|2019-01-04| 35378.0|          7143141|        Yes|    1|                0.5|\n|    Current|    711485|     CA|2019-01-04| 90029.0|          5973700|         No|    0|                0.5|\n|    Current|    882704|     CA|2019-01-05| 64242.0|          7143141|        Yes|    1|                0.5|\n|    Current|    711485|     CA|2019-01-05| 47117.0|          5973700|         No|    0|                0.5|\n+-----------+----------+-------+----------+--------+-----------------+-----------+-----+-------------------+\n\n"
    }
   ],
   "source": [
    "encoder1 = FeatureEncoder(strategy = \"SR\",cat_col=\"AccountType\",label_col=\"EliteMember\",positive_class=\"Yes\",negative_class=\"No\")\n",
    "df1 = encoder1.encode(spark_dat)\n",
    "df1.show()"
   ]
  },
  {
   "cell_type": "code",
   "execution_count": 24,
   "metadata": {
    "tags": []
   },
   "outputs": [
    {
     "output_type": "stream",
     "name": "stdout",
     "text": "Positive Class =  1 <class 'str'>\nNegative Class =  0 <class 'str'>\n+-----------+----------+-------+----------+--------+-----------------+-----------+-----+-------------------+\n|AccountType|CustomerId|Country|      Date|Balances|MaxAccountBalance|EliteMember|Label|AccountType_encoded|\n+-----------+----------+-------+----------+--------+-----------------+-----------+-----+-------------------+\n|    Savings|     92929|     CA|2019-01-01|221680.0|          6554191|         No|    0|                0.5|\n|    Savings|    625741|     CA|2019-01-01|560797.0|          2731430|         No|    0|                0.5|\n|    Savings|     92929|     CA|2019-01-02|695791.0|          6554191|         No|    0|                0.5|\n|    Savings|    625741|     CA|2019-01-02|740800.0|          2731430|         No|    0|                0.5|\n|    Savings|     92929|     CA|2019-01-03|     NaN|          6554191|         No|    0|                0.5|\n|    Savings|    625741|     CA|2019-01-03|     NaN|          2731430|         No|    0|                0.5|\n|    Savings|     92929|     CA|2019-01-04|669368.0|          6554191|         No|    0|                0.5|\n|    Savings|    625741|     CA|2019-01-04|239061.0|          2731430|         No|    0|                0.5|\n|    Savings|     92929|     CA|2019-01-05|348640.0|          6554191|         No|    0|                0.5|\n|    Savings|    625741|     CA|2019-01-05|843905.0|          2731430|         No|    0|                0.5|\n|    Current|    882704|     CA|2019-01-01| 15942.0|          7143141|        Yes|    1|                0.5|\n|    Current|    711485|     CA|2019-01-01| 29739.0|          5973700|         No|    0|                0.5|\n|    Current|    882704|     CA|2019-01-02| 85406.0|          7143141|        Yes|    1|                0.5|\n|    Current|    711485|     CA|2019-01-02| 22494.0|          5973700|         No|    0|                0.5|\n|    Current|    882704|     CA|2019-01-03|     NaN|          7143141|        Yes|    1|                0.5|\n|    Current|    711485|     CA|2019-01-03|     NaN|          5973700|         No|    0|                0.5|\n|    Current|    882704|     CA|2019-01-04| 35378.0|          7143141|        Yes|    1|                0.5|\n|    Current|    711485|     CA|2019-01-04| 90029.0|          5973700|         No|    0|                0.5|\n|    Current|    882704|     CA|2019-01-05| 64242.0|          7143141|        Yes|    1|                0.5|\n|    Current|    711485|     CA|2019-01-05| 47117.0|          5973700|         No|    0|                0.5|\n+-----------+----------+-------+----------+--------+-----------------+-----------+-----+-------------------+\n\n"
    }
   ],
   "source": [
    "encoder2 = FeatureEncoder(strategy = \"SR\",cat_col=\"AccountType\",label_col=\"Label\")\n",
    "df1 = encoder2.encode(spark_dat)\n",
    "df1.show()"
   ]
  },
  {
   "cell_type": "code",
   "execution_count": 25,
   "metadata": {
    "tags": []
   },
   "outputs": [
    {
     "output_type": "stream",
     "name": "stdout",
     "text": "Positive Class =  1 <class 'int'>\nNegative Class =  0 <class 'int'>\n+-----------+----------+-------+----------+--------+-----------------+-----------+-----+-------------------+\n|AccountType|CustomerId|Country|      Date|Balances|MaxAccountBalance|EliteMember|Label|AccountType_encoded|\n+-----------+----------+-------+----------+--------+-----------------+-----------+-----+-------------------+\n|    Savings|     92929|     CA|2019-01-01|221680.0|          6554191|         No|    0|                0.5|\n|    Savings|    625741|     CA|2019-01-01|560797.0|          2731430|         No|    0|                0.5|\n|    Savings|     92929|     CA|2019-01-02|695791.0|          6554191|         No|    0|                0.5|\n|    Savings|    625741|     CA|2019-01-02|740800.0|          2731430|         No|    0|                0.5|\n|    Savings|     92929|     CA|2019-01-03|     NaN|          6554191|         No|    0|                0.5|\n|    Savings|    625741|     CA|2019-01-03|     NaN|          2731430|         No|    0|                0.5|\n|    Savings|     92929|     CA|2019-01-04|669368.0|          6554191|         No|    0|                0.5|\n|    Savings|    625741|     CA|2019-01-04|239061.0|          2731430|         No|    0|                0.5|\n|    Savings|     92929|     CA|2019-01-05|348640.0|          6554191|         No|    0|                0.5|\n|    Savings|    625741|     CA|2019-01-05|843905.0|          2731430|         No|    0|                0.5|\n|    Current|    882704|     CA|2019-01-01| 15942.0|          7143141|        Yes|    1|                0.5|\n|    Current|    711485|     CA|2019-01-01| 29739.0|          5973700|         No|    0|                0.5|\n|    Current|    882704|     CA|2019-01-02| 85406.0|          7143141|        Yes|    1|                0.5|\n|    Current|    711485|     CA|2019-01-02| 22494.0|          5973700|         No|    0|                0.5|\n|    Current|    882704|     CA|2019-01-03|     NaN|          7143141|        Yes|    1|                0.5|\n|    Current|    711485|     CA|2019-01-03|     NaN|          5973700|         No|    0|                0.5|\n|    Current|    882704|     CA|2019-01-04| 35378.0|          7143141|        Yes|    1|                0.5|\n|    Current|    711485|     CA|2019-01-04| 90029.0|          5973700|         No|    0|                0.5|\n|    Current|    882704|     CA|2019-01-05| 64242.0|          7143141|        Yes|    1|                0.5|\n|    Current|    711485|     CA|2019-01-05| 47117.0|          5973700|         No|    0|                0.5|\n+-----------+----------+-------+----------+--------+-----------------+-----------+-----+-------------------+\n\n"
    }
   ],
   "source": [
    "encoder3 = FeatureEncoder(strategy = \"SR\",cat_col=\"AccountType\",label_col=\"Label\",positive_class=1,negative_class=0)\n",
    "df1 = encoder3.encode(spark_dat)\n",
    "df1.show()"
   ]
  },
  {
   "cell_type": "markdown",
   "metadata": {},
   "source": [
    "# Feature Encoding using Weight of Evidence"
   ]
  },
  {
   "cell_type": "code",
   "execution_count": 26,
   "metadata": {
    "tags": []
   },
   "outputs": [
    {
     "output_type": "stream",
     "name": "stdout",
     "text": "Positive Class =  Yes <class 'str'>\nNegative Class =  No <class 'str'>\n+-----------+----------+-------+----------+--------+-----------------+-----------+-----+-------------------+\n|AccountType|CustomerId|Country|      Date|Balances|MaxAccountBalance|EliteMember|Label|AccountType_encoded|\n+-----------+----------+-------+----------+--------+-----------------+-----------+-----+-------------------+\n|    Savings|     92929|     CA|2019-01-01|221680.0|          6554191|         No|    0|-0.3010299956639812|\n|    Savings|    625741|     CA|2019-01-01|560797.0|          2731430|         No|    0|-0.3010299956639812|\n|    Savings|     92929|     CA|2019-01-02|695791.0|          6554191|         No|    0|-0.3010299956639812|\n|    Savings|    625741|     CA|2019-01-02|740800.0|          2731430|         No|    0|-0.3010299956639812|\n|    Savings|     92929|     CA|2019-01-03|     NaN|          6554191|         No|    0|-0.3010299956639812|\n|    Savings|    625741|     CA|2019-01-03|     NaN|          2731430|         No|    0|-0.3010299956639812|\n|    Savings|     92929|     CA|2019-01-04|669368.0|          6554191|         No|    0|-0.3010299956639812|\n|    Savings|    625741|     CA|2019-01-04|239061.0|          2731430|         No|    0|-0.3010299956639812|\n|    Savings|     92929|     CA|2019-01-05|348640.0|          6554191|         No|    0|-0.3010299956639812|\n|    Savings|    625741|     CA|2019-01-05|843905.0|          2731430|         No|    0|-0.3010299956639812|\n|    Current|    882704|     CA|2019-01-01| 15942.0|          7143141|        Yes|    1|0.47712125471966244|\n|    Current|    711485|     CA|2019-01-01| 29739.0|          5973700|         No|    0|0.47712125471966244|\n|    Current|    882704|     CA|2019-01-02| 85406.0|          7143141|        Yes|    1|0.47712125471966244|\n|    Current|    711485|     CA|2019-01-02| 22494.0|          5973700|         No|    0|0.47712125471966244|\n|    Current|    882704|     CA|2019-01-03|     NaN|          7143141|        Yes|    1|0.47712125471966244|\n|    Current|    711485|     CA|2019-01-03|     NaN|          5973700|         No|    0|0.47712125471966244|\n|    Current|    882704|     CA|2019-01-04| 35378.0|          7143141|        Yes|    1|0.47712125471966244|\n|    Current|    711485|     CA|2019-01-04| 90029.0|          5973700|         No|    0|0.47712125471966244|\n|    Current|    882704|     CA|2019-01-05| 64242.0|          7143141|        Yes|    1|0.47712125471966244|\n|    Current|    711485|     CA|2019-01-05| 47117.0|          5973700|         No|    0|0.47712125471966244|\n+-----------+----------+-------+----------+--------+-----------------+-----------+-----+-------------------+\n\n"
    }
   ],
   "source": [
    "encoder4 = FeatureEncoder(strategy = \"WOE\",cat_col=\"AccountType\",label_col=\"EliteMember\",positive_class=\"Yes\",negative_class=\"No\")\n",
    "df2 = encoder4.encode(spark_dat)\n",
    "df2.show()"
   ]
  },
  {
   "cell_type": "code",
   "execution_count": 30,
   "metadata": {
    "tags": []
   },
   "outputs": [
    {
     "output_type": "stream",
     "name": "stdout",
     "text": "Positive Class =  1 <class 'str'>\nNegative Class =  0 <class 'str'>\n+-----------+----------+-------+----------+--------+-----------------+-----------+-----+-------------------+\n|AccountType|CustomerId|Country|      Date|Balances|MaxAccountBalance|EliteMember|Label|AccountType_encoded|\n+-----------+----------+-------+----------+--------+-----------------+-----------+-----+-------------------+\n|    Savings|     92929|     CA|2019-01-01|221680.0|          6554191|         No|    0|-0.3010299956639812|\n|    Savings|    625741|     CA|2019-01-01|560797.0|          2731430|         No|    0|-0.3010299956639812|\n|    Savings|     92929|     CA|2019-01-02|695791.0|          6554191|         No|    0|-0.3010299956639812|\n|    Savings|    625741|     CA|2019-01-02|740800.0|          2731430|         No|    0|-0.3010299956639812|\n|    Savings|     92929|     CA|2019-01-03|     NaN|          6554191|         No|    0|-0.3010299956639812|\n|    Savings|    625741|     CA|2019-01-03|     NaN|          2731430|         No|    0|-0.3010299956639812|\n|    Savings|     92929|     CA|2019-01-04|669368.0|          6554191|         No|    0|-0.3010299956639812|\n|    Savings|    625741|     CA|2019-01-04|239061.0|          2731430|         No|    0|-0.3010299956639812|\n|    Savings|     92929|     CA|2019-01-05|348640.0|          6554191|         No|    0|-0.3010299956639812|\n|    Savings|    625741|     CA|2019-01-05|843905.0|          2731430|         No|    0|-0.3010299956639812|\n|    Current|    882704|     CA|2019-01-01| 15942.0|          7143141|        Yes|    1|0.47712125471966244|\n|    Current|    711485|     CA|2019-01-01| 29739.0|          5973700|         No|    0|0.47712125471966244|\n|    Current|    882704|     CA|2019-01-02| 85406.0|          7143141|        Yes|    1|0.47712125471966244|\n|    Current|    711485|     CA|2019-01-02| 22494.0|          5973700|         No|    0|0.47712125471966244|\n|    Current|    882704|     CA|2019-01-03|     NaN|          7143141|        Yes|    1|0.47712125471966244|\n|    Current|    711485|     CA|2019-01-03|     NaN|          5973700|         No|    0|0.47712125471966244|\n|    Current|    882704|     CA|2019-01-04| 35378.0|          7143141|        Yes|    1|0.47712125471966244|\n|    Current|    711485|     CA|2019-01-04| 90029.0|          5973700|         No|    0|0.47712125471966244|\n|    Current|    882704|     CA|2019-01-05| 64242.0|          7143141|        Yes|    1|0.47712125471966244|\n|    Current|    711485|     CA|2019-01-05| 47117.0|          5973700|         No|    0|0.47712125471966244|\n+-----------+----------+-------+----------+--------+-----------------+-----------+-----+-------------------+\n\n"
    }
   ],
   "source": [
    "encoder5 = FeatureEncoder(strategy = \"WOE\",cat_col=\"AccountType\",label_col=\"Label\")\n",
    "df2 = encoder5.encode(spark_dat)\n",
    "df2.show()"
   ]
  },
  {
   "cell_type": "code",
   "execution_count": 31,
   "metadata": {
    "tags": []
   },
   "outputs": [
    {
     "output_type": "stream",
     "name": "stdout",
     "text": "Positive Class =  1 <class 'int'>\nNegative Class =  0 <class 'int'>\n+-----------+----------+-------+----------+--------+-----------------+-----------+-----+-------------------+\n|AccountType|CustomerId|Country|      Date|Balances|MaxAccountBalance|EliteMember|Label|AccountType_encoded|\n+-----------+----------+-------+----------+--------+-----------------+-----------+-----+-------------------+\n|    Savings|     92929|     CA|2019-01-01|221680.0|          6554191|         No|    0|-0.3010299956639812|\n|    Savings|    625741|     CA|2019-01-01|560797.0|          2731430|         No|    0|-0.3010299956639812|\n|    Savings|     92929|     CA|2019-01-02|695791.0|          6554191|         No|    0|-0.3010299956639812|\n|    Savings|    625741|     CA|2019-01-02|740800.0|          2731430|         No|    0|-0.3010299956639812|\n|    Savings|     92929|     CA|2019-01-03|     NaN|          6554191|         No|    0|-0.3010299956639812|\n|    Savings|    625741|     CA|2019-01-03|     NaN|          2731430|         No|    0|-0.3010299956639812|\n|    Savings|     92929|     CA|2019-01-04|669368.0|          6554191|         No|    0|-0.3010299956639812|\n|    Savings|    625741|     CA|2019-01-04|239061.0|          2731430|         No|    0|-0.3010299956639812|\n|    Savings|     92929|     CA|2019-01-05|348640.0|          6554191|         No|    0|-0.3010299956639812|\n|    Savings|    625741|     CA|2019-01-05|843905.0|          2731430|         No|    0|-0.3010299956639812|\n|    Current|    882704|     CA|2019-01-01| 15942.0|          7143141|        Yes|    1|0.47712125471966244|\n|    Current|    711485|     CA|2019-01-01| 29739.0|          5973700|         No|    0|0.47712125471966244|\n|    Current|    882704|     CA|2019-01-02| 85406.0|          7143141|        Yes|    1|0.47712125471966244|\n|    Current|    711485|     CA|2019-01-02| 22494.0|          5973700|         No|    0|0.47712125471966244|\n|    Current|    882704|     CA|2019-01-03|     NaN|          7143141|        Yes|    1|0.47712125471966244|\n|    Current|    711485|     CA|2019-01-03|     NaN|          5973700|         No|    0|0.47712125471966244|\n|    Current|    882704|     CA|2019-01-04| 35378.0|          7143141|        Yes|    1|0.47712125471966244|\n|    Current|    711485|     CA|2019-01-04| 90029.0|          5973700|         No|    0|0.47712125471966244|\n|    Current|    882704|     CA|2019-01-05| 64242.0|          7143141|        Yes|    1|0.47712125471966244|\n|    Current|    711485|     CA|2019-01-05| 47117.0|          5973700|         No|    0|0.47712125471966244|\n+-----------+----------+-------+----------+--------+-----------------+-----------+-----+-------------------+\n\n"
    }
   ],
   "source": [
    "encoder6 = FeatureEncoder(strategy = \"WOE\",cat_col=\"AccountType\",label_col=\"Label\",positive_class=1,negative_class=0)\n",
    "df2 = encoder6.encode(spark_dat)\n",
    "df2.show()"
   ]
  },
  {
   "cell_type": "code",
   "execution_count": null,
   "metadata": {},
   "outputs": [],
   "source": []
  }
 ],
 "metadata": {
  "kernelspec": {
   "display_name": "Python 3.7.6 64-bit ('base': conda)",
   "name": "python_defaultSpec_1597336140224"
  },
  "language_info": {
   "codemirror_mode": {
    "name": "ipython",
    "version": 3
   },
   "file_extension": ".py",
   "mimetype": "text/x-python",
   "name": "python",
   "nbconvert_exporter": "python",
   "pygments_lexer": "ipython3",
   "version": "3.7.6-final"
  }
 },
 "nbformat": 4,
 "nbformat_minor": 2
}